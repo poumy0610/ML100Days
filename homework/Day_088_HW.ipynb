{
 "cells": [
  {
   "cell_type": "markdown",
   "metadata": {},
   "source": [
    "## Work\n",
    "1. 請嘗試寫一個 callback 用來記錄各類別在訓練過程中，對驗證集的 True Positive 與 True Negative"
   ]
  },
  {
   "cell_type": "code",
   "execution_count": 1,
   "metadata": {},
   "outputs": [
    {
     "name": "stdout",
     "output_type": "stream",
     "text": [
      "Num GPUs Available:  1\n"
     ]
    }
   ],
   "source": [
    "import os\n",
    "import keras\n",
    "import tensorflow as tf\n",
    "\n",
    "os.environ[\"CUDA_VISIBLE_DEVICES\"] = \"0\"\n",
    "print(\"Num GPUs Available: \", len(tf.config.experimental.list_physical_devices('GPU')))\n",
    "\n",
    "physical_devices = tf.config.list_physical_devices('GPU') \n",
    "tf.config.experimental.set_memory_growth(physical_devices[0], True)"
   ]
  },
  {
   "cell_type": "code",
   "execution_count": 2,
   "metadata": {},
   "outputs": [],
   "source": [
    "train, test = keras.datasets.cifar10.load_data()"
   ]
  },
  {
   "cell_type": "code",
   "execution_count": 3,
   "metadata": {},
   "outputs": [],
   "source": [
    "## 資料前處理\n",
    "def preproc_x(x, flatten=True):\n",
    "    x = x / 255.\n",
    "    if flatten:\n",
    "        x = x.reshape((len(x), -1))\n",
    "    return x\n",
    "\n",
    "def preproc_y(y, num_classes=10):\n",
    "    if y.shape[-1] == 1:\n",
    "        y = keras.utils.to_categorical(y, num_classes)\n",
    "    return y    "
   ]
  },
  {
   "cell_type": "code",
   "execution_count": 4,
   "metadata": {},
   "outputs": [],
   "source": [
    "x_train, y_train = train\n",
    "x_test, y_test = test\n",
    "\n",
    "# Preproc the inputs\n",
    "x_train = preproc_x(x_train)\n",
    "x_test = preproc_x(x_test)\n",
    "\n",
    "# Preprc the outputs\n",
    "y_train = preproc_y(y_train)\n",
    "y_test = preproc_y(y_test)"
   ]
  },
  {
   "cell_type": "code",
   "execution_count": 5,
   "metadata": {},
   "outputs": [],
   "source": [
    "from keras.layers import BatchNormalization\n",
    "\n",
    "\"\"\"\n",
    "建立神經網路，並加入 BN layer\n",
    "\"\"\"\n",
    "def build_mlp(input_shape, output_units=10, num_neurons=[512, 256, 128]):\n",
    "    input_layer = keras.layers.Input(input_shape)\n",
    "    \n",
    "    for i, n_units in enumerate(num_neurons):\n",
    "        if i == 0:\n",
    "            x = keras.layers.Dense(units=n_units, \n",
    "                                   activation=\"relu\", \n",
    "                                   name=\"hidden_layer\"+str(i+1))(input_layer)\n",
    "            x = BatchNormalization()(x)\n",
    "        else:\n",
    "            x = keras.layers.Dense(units=n_units, \n",
    "                                   activation=\"relu\", \n",
    "                                   name=\"hidden_layer\"+str(i+1))(x)\n",
    "            x = BatchNormalization()(x)\n",
    "    \n",
    "    out = keras.layers.Dense(units=output_units, activation=\"softmax\", name=\"output\")(x)\n",
    "    \n",
    "    model = keras.models.Model(inputs=[input_layer], outputs=[out])\n",
    "    return model"
   ]
  },
  {
   "cell_type": "code",
   "execution_count": 6,
   "metadata": {},
   "outputs": [],
   "source": [
    "## 超參數設定\n",
    "LEARNING_RATE = 1e-3\n",
    "EPOCHS = 25\n",
    "BATCH_SIZE = 1024\n",
    "MOMENTUM = 0.95"
   ]
  },
  {
   "cell_type": "code",
   "execution_count": 7,
   "metadata": {},
   "outputs": [],
   "source": [
    "# 載入 Callbacks\n",
    "from keras.callbacks import Callback\n",
    "from sklearn.metrics import confusion_matrix\n",
    "from sklearn.metrics import f1_score\n",
    "\n",
    "# Record_fp_tp\n",
    "class Record_tp_tn(Callback):\n",
    "    \"\"\"Code Here\n",
    "    撰寫一個紀錄 ture positive 與 true negative 數量的 callbacks    \n",
    "    \"\"\"\n",
    "    def __init__(self, val_data=(x_test, y_test)):\n",
    "        self.validation_data = val_data\n",
    "        \n",
    "    def on_train_begin(self, epoch, logs = {}):\n",
    "        logs = logs or {}\n",
    "        record_items = [\"val_auc\", \"val_f1sc\", \"val_fp\", \"val_fn\", \"val_tp\", \"val_tn\"]\n",
    "        for i in record_items:\n",
    "            try:\n",
    "                if i not in self.params['metrics']:\n",
    "                    self.params['metrics'].append(i)\n",
    "            except:\n",
    "                self.params['metrics']=i\n",
    "    \n",
    "    def on_epoch_end(self, epoch, logs = {}, thres=0.5):\n",
    "        logs = logs or {}\n",
    "        y_true = self.validation_data[1].argmax(axis = 1)\n",
    "        y_pred = self.model.predict(self.validation_data[0])\n",
    "        y_pred = (y_pred[:, 1] >= thres) * 1\n",
    "        \n",
    "        CM = confusion_matrix(y_true, y_pred)\n",
    "        \n",
    "        #  TN = CM[0][0]  FN = CM[1][0]   TP = CM[1][1]   FP = CM[0][1]\n",
    "        logs[\"val_f1sc\"] = f1_score(y_true = y_true, y_pred = y_pred, average=\"weighted\")\n",
    "        logs[\"val_tp\"] = CM[1][1]  # == keras.metrics.TruePositives()\n",
    "        logs[\"val_tn\"] = CM[0][0]  # == keras.metrics.TrueNegatives()\n",
    "\n",
    "rec_tptn = Record_tp_tn()"
   ]
  },
  {
   "cell_type": "code",
   "execution_count": 8,
   "metadata": {
    "scrolled": true
   },
   "outputs": [
    {
     "name": "stdout",
     "output_type": "stream",
     "text": [
      "Model: \"model\"\n",
      "_________________________________________________________________\n",
      "Layer (type)                 Output Shape              Param #   \n",
      "=================================================================\n",
      "input_1 (InputLayer)         [(None, 3072)]            0         \n",
      "_________________________________________________________________\n",
      "hidden_layer1 (Dense)        (None, 512)               1573376   \n",
      "_________________________________________________________________\n",
      "batch_normalization (BatchNo (None, 512)               2048      \n",
      "_________________________________________________________________\n",
      "hidden_layer2 (Dense)        (None, 256)               131328    \n",
      "_________________________________________________________________\n",
      "batch_normalization_1 (Batch (None, 256)               1024      \n",
      "_________________________________________________________________\n",
      "hidden_layer3 (Dense)        (None, 128)               32896     \n",
      "_________________________________________________________________\n",
      "batch_normalization_2 (Batch (None, 128)               512       \n",
      "_________________________________________________________________\n",
      "output (Dense)               (None, 10)                1290      \n",
      "=================================================================\n",
      "Total params: 1,742,474\n",
      "Trainable params: 1,740,682\n",
      "Non-trainable params: 1,792\n",
      "_________________________________________________________________\n",
      "Epoch 1/25\n",
      "49/49 [==============================] - 2s 44ms/step - loss: 2.2118 - accuracy: 0.2769 - val_loss: 2.1170 - val_accuracy: 0.2271 - val_f1sc: 0.0182 - val_tp: 0.0000e+00 - val_tn: 1000.0000\n",
      "Epoch 2/25\n",
      "49/49 [==============================] - 2s 36ms/step - loss: 1.7356 - accuracy: 0.3953 - val_loss: 1.9701 - val_accuracy: 0.2952 - val_f1sc: 0.0182 - val_tp: 0.0000e+00 - val_tn: 1000.0000\n",
      "Epoch 3/25\n",
      "49/49 [==============================] - 2s 36ms/step - loss: 1.6168 - accuracy: 0.4353 - val_loss: 1.8277 - val_accuracy: 0.3692 - val_f1sc: 0.0186 - val_tp: 2.0000 - val_tn: 1000.0000\n",
      "Epoch 4/25\n",
      "49/49 [==============================] - 2s 35ms/step - loss: 1.5435 - accuracy: 0.4611 - val_loss: 1.7166 - val_accuracy: 0.4120 - val_f1sc: 0.0285 - val_tp: 54.0000 - val_tn: 1000.0000\n",
      "Epoch 5/25\n",
      "49/49 [==============================] - 2s 37ms/step - loss: 1.4863 - accuracy: 0.4799 - val_loss: 1.6409 - val_accuracy: 0.4380 - val_f1sc: 0.0378 - val_tp: 109.0000 - val_tn: 1000.0000\n",
      "Epoch 6/25\n",
      "49/49 [==============================] - 2s 36ms/step - loss: 1.4429 - accuracy: 0.4957 - val_loss: 1.6017 - val_accuracy: 0.4422 - val_f1sc: 0.0430 - val_tp: 143.0000 - val_tn: 1000.0000\n",
      "Epoch 7/25\n",
      "49/49 [==============================] - 2s 35ms/step - loss: 1.4032 - accuracy: 0.5115 - val_loss: 1.5450 - val_accuracy: 0.4586 - val_f1sc: 0.0558 - val_tp: 241.0000 - val_tn: 998.0000\n",
      "Epoch 8/25\n",
      "49/49 [==============================] - 2s 36ms/step - loss: 1.3680 - accuracy: 0.5234 - val_loss: 1.5153 - val_accuracy: 0.4668 - val_f1sc: 0.0586 - val_tp: 267.0000 - val_tn: 997.0000\n",
      "Epoch 9/25\n",
      "49/49 [==============================] - 2s 36ms/step - loss: 1.3368 - accuracy: 0.5342 - val_loss: 1.5147 - val_accuracy: 0.4647 - val_f1sc: 0.0691 - val_tp: 396.0000 - val_tn: 988.0000\n",
      "Epoch 10/25\n",
      "49/49 [==============================] - 2s 37ms/step - loss: 1.3064 - accuracy: 0.5463 - val_loss: 1.4899 - val_accuracy: 0.4742 - val_f1sc: 0.0671 - val_tp: 370.0000 - val_tn: 991.0000\n",
      "Epoch 11/25\n",
      "49/49 [==============================] - 2s 36ms/step - loss: 1.2776 - accuracy: 0.5550 - val_loss: 1.4918 - val_accuracy: 0.4747 - val_f1sc: 0.0693 - val_tp: 408.0000 - val_tn: 985.0000\n",
      "Epoch 12/25\n",
      "49/49 [==============================] - 2s 35ms/step - loss: 1.2507 - accuracy: 0.5664 - val_loss: 1.4669 - val_accuracy: 0.4838 - val_f1sc: 0.0691 - val_tp: 392.0000 - val_tn: 988.0000\n",
      "Epoch 13/25\n",
      "49/49 [==============================] - 2s 37ms/step - loss: 1.2271 - accuracy: 0.5746 - val_loss: 1.4675 - val_accuracy: 0.4807 - val_f1sc: 0.0720 - val_tp: 430.0000 - val_tn: 988.0000\n",
      "Epoch 14/25\n",
      "49/49 [==============================] - 2s 35ms/step - loss: 1.2016 - accuracy: 0.5843 - val_loss: 1.4622 - val_accuracy: 0.4824 - val_f1sc: 0.0731 - val_tp: 453.0000 - val_tn: 988.0000\n",
      "Epoch 15/25\n",
      "49/49 [==============================] - 2s 36ms/step - loss: 1.1759 - accuracy: 0.5938 - val_loss: 1.4582 - val_accuracy: 0.4875 - val_f1sc: 0.0723 - val_tp: 436.0000 - val_tn: 989.0000\n",
      "Epoch 16/25\n",
      "49/49 [==============================] - 2s 36ms/step - loss: 1.1535 - accuracy: 0.6023 - val_loss: 1.4463 - val_accuracy: 0.4944 - val_f1sc: 0.0741 - val_tp: 453.0000 - val_tn: 987.0000\n",
      "Epoch 17/25\n",
      "49/49 [==============================] - 2s 35ms/step - loss: 1.1302 - accuracy: 0.6124 - val_loss: 1.4553 - val_accuracy: 0.4910 - val_f1sc: 0.0761 - val_tp: 513.0000 - val_tn: 984.0000\n",
      "Epoch 18/25\n",
      "49/49 [==============================] - 2s 37ms/step - loss: 1.1084 - accuracy: 0.6219 - val_loss: 1.4602 - val_accuracy: 0.4924 - val_f1sc: 0.0744 - val_tp: 468.0000 - val_tn: 988.0000\n",
      "Epoch 19/25\n",
      "49/49 [==============================] - 2s 35ms/step - loss: 1.0840 - accuracy: 0.6289 - val_loss: 1.4644 - val_accuracy: 0.4892 - val_f1sc: 0.0747 - val_tp: 478.0000 - val_tn: 985.0000\n",
      "Epoch 20/25\n",
      "49/49 [==============================] - 2s 36ms/step - loss: 1.0636 - accuracy: 0.6357 - val_loss: 1.4491 - val_accuracy: 0.4933 - val_f1sc: 0.0739 - val_tp: 451.0000 - val_tn: 989.0000\n",
      "Epoch 21/25\n",
      "49/49 [==============================] - 2s 36ms/step - loss: 1.0410 - accuracy: 0.6455 - val_loss: 1.4524 - val_accuracy: 0.4958 - val_f1sc: 0.0762 - val_tp: 486.0000 - val_tn: 983.0000\n",
      "Epoch 22/25\n",
      "49/49 [==============================] - 2s 37ms/step - loss: 1.0207 - accuracy: 0.6537 - val_loss: 1.4473 - val_accuracy: 0.4982 - val_f1sc: 0.0767 - val_tp: 507.0000 - val_tn: 981.0000\n",
      "Epoch 23/25\n",
      "49/49 [==============================] - 2s 36ms/step - loss: 1.0011 - accuracy: 0.6604 - val_loss: 1.4547 - val_accuracy: 0.4929 - val_f1sc: 0.0730 - val_tp: 431.0000 - val_tn: 990.0000\n",
      "Epoch 24/25\n",
      "49/49 [==============================] - 2s 35ms/step - loss: 0.9791 - accuracy: 0.6708 - val_loss: 1.4549 - val_accuracy: 0.4941 - val_f1sc: 0.0737 - val_tp: 461.0000 - val_tn: 986.0000\n",
      "Epoch 25/25\n",
      "49/49 [==============================] - 2s 37ms/step - loss: 0.9581 - accuracy: 0.6781 - val_loss: 1.4547 - val_accuracy: 0.4971 - val_f1sc: 0.0769 - val_tp: 521.0000 - val_tn: 984.0000\n"
     ]
    }
   ],
   "source": [
    "model = build_mlp(input_shape=x_train.shape[1:])\n",
    "model.summary()\n",
    "optimizer = keras.optimizers.SGD(lr=LEARNING_RATE, nesterov=True, momentum=MOMENTUM)\n",
    "model.compile(loss=\"categorical_crossentropy\", metrics=[\"accuracy\"], optimizer=optimizer)\n",
    "\n",
    "\"\"\"Code Here\n",
    "將 callbacks 放入模型訓練流程中\n",
    "\"\"\"\n",
    "model.fit(x_train, y_train, \n",
    "          epochs=EPOCHS, \n",
    "          batch_size=BATCH_SIZE, \n",
    "          validation_data=(x_test, y_test), \n",
    "          shuffle=True,\n",
    "          callbacks=[rec_tptn])\n",
    "\n",
    "# Collect results\n",
    "train_loss = model.history.history[\"loss\"]\n",
    "valid_loss = model.history.history[\"val_loss\"]\n",
    "train_acc = model.history.history[\"accuracy\"]\n",
    "valid_acc = model.history.history[\"val_accuracy\"]\n",
    "\n",
    "\"\"\"Code Here\n",
    "將 tp/tn 從訓練完的模型中取出\n",
    "\"\"\"\n",
    "valid_tp = model.history.history['val_tp']\n",
    "valid_tn = model.history.history['val_tn']"
   ]
  },
  {
   "cell_type": "code",
   "execution_count": 9,
   "metadata": {},
   "outputs": [
    {
     "data": {
      "image/png": "[encoded data removed]",
      "text/plain": [
       "<Figure size 432x288 with 1 Axes>"
      ]
     },
     "metadata": {
      "needs_background": "light"
     },
     "output_type": "display_data"
    },
    {
     "data": {
      "image/png": "[encoded data removed]",
      "text/plain": [
       "<Figure size 432x288 with 1 Axes>"
      ]
     },
     "metadata": {
      "needs_background": "light"
     },
     "output_type": "display_data"
    },
    {
     "data": {
      "image/png": "[encoded data removed]",
      "text/plain": [
       "<Figure size 432x288 with 1 Axes>"
      ]
     },
     "metadata": {
      "needs_background": "light"
     },
     "output_type": "display_data"
    }
   ],
   "source": [
    "import matplotlib.pyplot as plt\n",
    "%matplotlib inline\n",
    "\n",
    "plt.plot(range(len(train_loss)), train_loss, label=\"train loss\")\n",
    "plt.plot(range(len(valid_loss)), valid_loss, label=\"valid loss\")\n",
    "plt.legend()\n",
    "plt.title(\"Loss\")\n",
    "plt.show()\n",
    "\n",
    "plt.plot(range(len(train_acc)), train_acc, label=\"train accuracy\")\n",
    "plt.plot(range(len(valid_acc)), valid_acc, label=\"valid accuracy\")\n",
    "plt.legend()\n",
    "plt.title(\"Accuracy\")\n",
    "plt.show()\n",
    "\n",
    "plt.plot(range(len(valid_tp)), valid_tp, label=\"valid tp\", color=\"navy\")\n",
    "plt.plot(range(len(valid_tn)), valid_tn, label=\"valid tn\", color=\"red\")\n",
    "plt.legend()\n",
    "plt.title(\"True positives and True Negatives\")\n",
    "plt.show()\n"
   ]
  }
 ],
 "metadata": {
  "kernelspec": {
   "display_name": "Python 3",
   "language": "python",
   "name": "python3"
  },
  "language_info": {
   "codemirror_mode": {
    "name": "ipython",
    "version": 3
   },
   "file_extension": ".py",
   "mimetype": "text/x-python",
   "name": "python",
   "nbconvert_exporter": "python",
   "pygments_lexer": "ipython3",
   "version": "3.8.3"
  }
 },
 "nbformat": 4,
 "nbformat_minor": 2
}
