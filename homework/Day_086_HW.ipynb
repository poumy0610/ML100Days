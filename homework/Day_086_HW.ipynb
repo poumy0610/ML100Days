{
 "cells": [
  {
   "cell_type": "markdown",
   "metadata": {},
   "source": [
    "## Work\n",
    "1. 試比較 save_best_only 與否的差異\n",
    "2. 請僅存入將 save_weights_only 設定為 True, 並嘗試 reset ipynb 並將模型與權重重新建回並預測 x_test"
   ]
  },
  {
   "cell_type": "code",
   "execution_count": 1,
   "metadata": {},
   "outputs": [
    {
     "name": "stdout",
     "output_type": "stream",
     "text": [
      "Num GPUs Available:  1\n"
     ]
    }
   ],
   "source": [
    "import os\n",
    "import keras\n",
    "\n",
    "os.environ[\"CUDA_VISIBLE_DEVICES\"] = \"0\"\n",
    "\n",
    "import tensorflow as tf\n",
    "print(\"Num GPUs Available: \", len(tf.config.experimental.list_physical_devices('GPU')))\n",
    "\n",
    "physical_devices = tf.config.list_physical_devices('GPU') \n",
    "tf.config.experimental.set_memory_growth(physical_devices[0], True)"
   ]
  },
  {
   "cell_type": "code",
   "execution_count": 2,
   "metadata": {},
   "outputs": [],
   "source": [
    "train, test = keras.datasets.cifar10.load_data()"
   ]
  },
  {
   "cell_type": "code",
   "execution_count": 3,
   "metadata": {},
   "outputs": [],
   "source": [
    "## 資料前處理\n",
    "def preproc_x(x, flatten=True):\n",
    "    x = x / 255.\n",
    "    if flatten:\n",
    "        x = x.reshape((len(x), -1))\n",
    "    return x\n",
    "\n",
    "def preproc_y(y, num_classes=10):\n",
    "    if y.shape[-1] == 1:\n",
    "        y = keras.utils.to_categorical(y, num_classes)\n",
    "    return y    "
   ]
  },
  {
   "cell_type": "code",
   "execution_count": 4,
   "metadata": {},
   "outputs": [],
   "source": [
    "x_train, y_train = train\n",
    "x_test, y_test = test\n",
    "\n",
    "# Preproc the inputs\n",
    "x_train = preproc_x(x_train)\n",
    "x_test = preproc_x(x_test)\n",
    "\n",
    "# Preprc the outputs\n",
    "y_train = preproc_y(y_train)\n",
    "y_test = preproc_y(y_test)"
   ]
  },
  {
   "cell_type": "code",
   "execution_count": 5,
   "metadata": {},
   "outputs": [],
   "source": [
    "from keras.layers import BatchNormalization\n",
    "\n",
    "\"\"\"\n",
    "建立神經網路，並加入 BN layer\n",
    "\"\"\"\n",
    "def build_mlp(input_shape):\n",
    "    input_layer = keras.layers.Input(input_shape)\n",
    "    output_units=10\n",
    "    num_neurons=[512, 256, 128]\n",
    "    \n",
    "    for i, n_units in enumerate(num_neurons):\n",
    "        if i == 0:\n",
    "            x = keras.layers.Dense(units=n_units, \n",
    "                                   activation=\"relu\", \n",
    "                                   name=\"hidden_layer\"+str(i+1))(input_layer)\n",
    "            x = BatchNormalization()(x)\n",
    "        else:\n",
    "            x = keras.layers.Dense(units=n_units, \n",
    "                                   activation=\"relu\", \n",
    "                                   name=\"hidden_layer\"+str(i+1))(x)\n",
    "            x = BatchNormalization()(x)\n",
    "    \n",
    "    out = keras.layers.Dense(units=output_units, activation=\"softmax\", name=\"output\")(x)\n",
    "    \n",
    "    model = keras.models.Model(inputs=[input_layer], outputs=[out])\n",
    "    return model"
   ]
  },
  {
   "cell_type": "code",
   "execution_count": 6,
   "metadata": {},
   "outputs": [],
   "source": [
    "## 超參數設定\n",
    "LEARNING_RATE = 1e-3\n",
    "EPOCHS = 50\n",
    "BATCH_SIZE = 1024\n",
    "MOMENTUM = 0.95"
   ]
  },
  {
   "cell_type": "code",
   "execution_count": 7,
   "metadata": {},
   "outputs": [
    {
     "name": "stdout",
     "output_type": "stream",
     "text": [
      "Model: \"model\"\n",
      "_________________________________________________________________\n",
      "Layer (type)                 Output Shape              Param #   \n",
      "=================================================================\n",
      "input_1 (InputLayer)         [(None, 3072)]            0         \n",
      "_________________________________________________________________\n",
      "hidden_layer1 (Dense)        (None, 512)               1573376   \n",
      "_________________________________________________________________\n",
      "batch_normalization (BatchNo (None, 512)               2048      \n",
      "_________________________________________________________________\n",
      "hidden_layer2 (Dense)        (None, 256)               131328    \n",
      "_________________________________________________________________\n",
      "batch_normalization_1 (Batch (None, 256)               1024      \n",
      "_________________________________________________________________\n",
      "hidden_layer3 (Dense)        (None, 128)               32896     \n",
      "_________________________________________________________________\n",
      "batch_normalization_2 (Batch (None, 128)               512       \n",
      "_________________________________________________________________\n",
      "output (Dense)               (None, 10)                1290      \n",
      "=================================================================\n",
      "Total params: 1,742,474\n",
      "Trainable params: 1,740,682\n",
      "Non-trainable params: 1,792\n",
      "_________________________________________________________________\n",
      "Epoch 1/50\n",
      "49/49 [==============================] - 3s 64ms/step - loss: 2.2022 - accuracy: 0.2690 - val_loss: 2.1080 - val_accuracy: 0.2039\n",
      "Epoch 2/50\n",
      "49/49 [==============================] - 3s 52ms/step - loss: 1.7316 - accuracy: 0.3945 - val_loss: 1.9454 - val_accuracy: 0.3082\n",
      "Epoch 3/50\n",
      "49/49 [==============================] - 2s 46ms/step - loss: 1.6086 - accuracy: 0.4358 - val_loss: 1.8082 - val_accuracy: 0.3777\n",
      "Epoch 4/50\n",
      "49/49 [==============================] - 3s 51ms/step - loss: 1.5331 - accuracy: 0.4609 - val_loss: 1.7113 - val_accuracy: 0.4080\n",
      "Epoch 5/50\n",
      "49/49 [==============================] - 2s 43ms/step - loss: 1.4797 - accuracy: 0.4803 - val_loss: 1.6239 - val_accuracy: 0.4361\n",
      "Epoch 6/50\n",
      "49/49 [==============================] - 2s 43ms/step - loss: 1.4357 - accuracy: 0.4968 - val_loss: 1.5822 - val_accuracy: 0.4431\n",
      "Epoch 7/50\n",
      "49/49 [==============================] - 2s 44ms/step - loss: 1.3965 - accuracy: 0.5102 - val_loss: 1.5449 - val_accuracy: 0.4588\n",
      "Epoch 8/50\n",
      "49/49 [==============================] - 2s 43ms/step - loss: 1.3613 - accuracy: 0.5248 - val_loss: 1.5148 - val_accuracy: 0.4591\n",
      "Epoch 9/50\n",
      "49/49 [==============================] - 3s 55ms/step - loss: 1.3287 - accuracy: 0.5360 - val_loss: 1.5043 - val_accuracy: 0.4682\n",
      "Epoch 10/50\n",
      "49/49 [==============================] - 2s 45ms/step - loss: 1.2997 - accuracy: 0.5482 - val_loss: 1.4855 - val_accuracy: 0.4733\n",
      "Epoch 11/50\n",
      "49/49 [==============================] - 2s 44ms/step - loss: 1.2710 - accuracy: 0.5566 - val_loss: 1.4827 - val_accuracy: 0.4715\n",
      "Epoch 12/50\n",
      "49/49 [==============================] - 2s 42ms/step - loss: 1.2451 - accuracy: 0.5681 - val_loss: 1.4776 - val_accuracy: 0.4750\n",
      "Epoch 13/50\n",
      "49/49 [==============================] - 2s 43ms/step - loss: 1.2198 - accuracy: 0.5765 - val_loss: 1.4706 - val_accuracy: 0.4770\n",
      "Epoch 14/50\n",
      "49/49 [==============================] - 2s 45ms/step - loss: 1.1941 - accuracy: 0.5863 - val_loss: 1.4600 - val_accuracy: 0.4811\n",
      "Epoch 15/50\n",
      "49/49 [==============================] - 2s 50ms/step - loss: 1.1711 - accuracy: 0.5953 - val_loss: 1.4599 - val_accuracy: 0.4880\n",
      "Epoch 16/50\n",
      "49/49 [==============================] - 2s 48ms/step - loss: 1.1469 - accuracy: 0.6042 - val_loss: 1.4624 - val_accuracy: 0.4849\n",
      "Epoch 17/50\n",
      "49/49 [==============================] - 2s 46ms/step - loss: 1.1252 - accuracy: 0.6134 - val_loss: 1.4544 - val_accuracy: 0.4814\n",
      "Epoch 18/50\n",
      "49/49 [==============================] - 2s 47ms/step - loss: 1.1025 - accuracy: 0.6240 - val_loss: 1.4616 - val_accuracy: 0.4847\n",
      "Epoch 19/50\n",
      "49/49 [==============================] - 3s 65ms/step - loss: 1.0812 - accuracy: 0.6292 - val_loss: 1.4468 - val_accuracy: 0.4872\n",
      "Epoch 20/50\n",
      "49/49 [==============================] - 4s 75ms/step - loss: 1.0576 - accuracy: 0.6411 - val_loss: 1.4485 - val_accuracy: 0.4897\n",
      "Epoch 21/50\n",
      "49/49 [==============================] - 2s 50ms/step - loss: 1.0358 - accuracy: 0.6472 - val_loss: 1.4486 - val_accuracy: 0.4889\n",
      "Epoch 22/50\n",
      "49/49 [==============================] - 2s 31ms/step - loss: 1.0167 - accuracy: 0.6553 - val_loss: 1.4507 - val_accuracy: 0.4901\n",
      "Epoch 23/50\n",
      "49/49 [==============================] - 2s 33ms/step - loss: 0.9957 - accuracy: 0.6642 - val_loss: 1.4591 - val_accuracy: 0.4889\n",
      "Epoch 24/50\n",
      "49/49 [==============================] - 1s 30ms/step - loss: 0.9750 - accuracy: 0.6730 - val_loss: 1.4660 - val_accuracy: 0.4891\n",
      "Epoch 25/50\n",
      "49/49 [==============================] - 2s 33ms/step - loss: 0.9545 - accuracy: 0.6793 - val_loss: 1.4539 - val_accuracy: 0.4978\n",
      "Epoch 26/50\n",
      "49/49 [==============================] - 2s 31ms/step - loss: 0.9338 - accuracy: 0.6876 - val_loss: 1.4634 - val_accuracy: 0.4876\n",
      "Epoch 27/50\n",
      "49/49 [==============================] - 2s 46ms/step - loss: 0.9136 - accuracy: 0.6968 - val_loss: 1.4628 - val_accuracy: 0.4902\n",
      "Epoch 28/50\n",
      "49/49 [==============================] - 2s 46ms/step - loss: 0.8943 - accuracy: 0.7044 - val_loss: 1.4973 - val_accuracy: 0.4916\n",
      "Epoch 29/50\n",
      "49/49 [==============================] - 2s 38ms/step - loss: 0.8739 - accuracy: 0.7104 - val_loss: 1.4680 - val_accuracy: 0.4909\n",
      "Epoch 30/50\n",
      "49/49 [==============================] - 2s 31ms/step - loss: 0.8553 - accuracy: 0.7190 - val_loss: 1.4661 - val_accuracy: 0.4944\n",
      "Epoch 31/50\n",
      "49/49 [==============================] - 2s 49ms/step - loss: 0.8345 - accuracy: 0.7263 - val_loss: 1.4751 - val_accuracy: 0.4984\n",
      "Epoch 32/50\n",
      "49/49 [==============================] - 2s 36ms/step - loss: 0.8140 - accuracy: 0.7345 - val_loss: 1.4865 - val_accuracy: 0.4922\n",
      "Epoch 33/50\n",
      "49/49 [==============================] - 2s 34ms/step - loss: 0.7944 - accuracy: 0.7430 - val_loss: 1.4900 - val_accuracy: 0.4953\n",
      "Epoch 34/50\n",
      "49/49 [==============================] - 1s 29ms/step - loss: 0.7773 - accuracy: 0.7501 - val_loss: 1.5024 - val_accuracy: 0.4918\n",
      "Epoch 35/50\n",
      "49/49 [==============================] - 2s 38ms/step - loss: 0.7557 - accuracy: 0.7592 - val_loss: 1.5166 - val_accuracy: 0.4908\n",
      "Epoch 36/50\n",
      "49/49 [==============================] - 2s 31ms/step - loss: 0.7381 - accuracy: 0.7654 - val_loss: 1.5047 - val_accuracy: 0.4974\n",
      "Epoch 37/50\n",
      "49/49 [==============================] - 2s 40ms/step - loss: 0.7196 - accuracy: 0.7740 - val_loss: 1.5302 - val_accuracy: 0.4925\n",
      "Epoch 38/50\n",
      "49/49 [==============================] - 2s 31ms/step - loss: 0.7010 - accuracy: 0.7809 - val_loss: 1.5362 - val_accuracy: 0.4911\n",
      "Epoch 39/50\n",
      "49/49 [==============================] - 2s 33ms/step - loss: 0.6817 - accuracy: 0.7875 - val_loss: 1.5404 - val_accuracy: 0.4961\n",
      "Epoch 40/50\n",
      "49/49 [==============================] - 2s 31ms/step - loss: 0.6624 - accuracy: 0.7968 - val_loss: 1.5586 - val_accuracy: 0.4889\n",
      "Epoch 41/50\n",
      "49/49 [==============================] - 1s 30ms/step - loss: 0.6442 - accuracy: 0.8022 - val_loss: 1.5444 - val_accuracy: 0.4944\n",
      "Epoch 42/50\n",
      "49/49 [==============================] - 1s 30ms/step - loss: 0.6274 - accuracy: 0.8098 - val_loss: 1.5724 - val_accuracy: 0.4834\n",
      "Epoch 43/50\n",
      "49/49 [==============================] - 2s 31ms/step - loss: 0.6088 - accuracy: 0.8166 - val_loss: 1.5748 - val_accuracy: 0.4888\n",
      "Epoch 44/50\n",
      "49/49 [==============================] - 1s 30ms/step - loss: 0.5914 - accuracy: 0.8241 - val_loss: 1.5831 - val_accuracy: 0.4866\n",
      "Epoch 45/50\n",
      "49/49 [==============================] - 2s 39ms/step - loss: 0.5730 - accuracy: 0.8302 - val_loss: 1.5895 - val_accuracy: 0.4903\n",
      "Epoch 46/50\n",
      "49/49 [==============================] - 2s 33ms/step - loss: 0.5561 - accuracy: 0.8389 - val_loss: 1.5938 - val_accuracy: 0.4928\n",
      "Epoch 47/50\n",
      "49/49 [==============================] - 2s 34ms/step - loss: 0.5375 - accuracy: 0.8453 - val_loss: 1.6108 - val_accuracy: 0.4855\n",
      "Epoch 48/50\n",
      "49/49 [==============================] - 2s 32ms/step - loss: 0.5216 - accuracy: 0.8521 - val_loss: 1.6358 - val_accuracy: 0.4931\n"
     ]
    },
    {
     "name": "stdout",
     "output_type": "stream",
     "text": [
      "Epoch 49/50\n",
      "49/49 [==============================] - 1s 31ms/step - loss: 0.5069 - accuracy: 0.8567 - val_loss: 1.6452 - val_accuracy: 0.4878\n",
      "Epoch 50/50\n",
      "49/49 [==============================] - 1s 30ms/step - loss: 0.4890 - accuracy: 0.8637 - val_loss: 1.6846 - val_accuracy: 0.4863\n",
      "313/313 [==============================] - 1s 3ms/step - loss: 1.6846 - accuracy: 0.4863\n"
     ]
    }
   ],
   "source": [
    "# 載入 Callbacks\n",
    "\"\"\"Code Here\n",
    "設定 callbacks: model checkpoint\n",
    "\"\"\"\n",
    "from keras.callbacks import ModelCheckpoint\n",
    "\n",
    "model_ckpt = ModelCheckpoint(filepath=\"./tmp.h5\", \n",
    "                             monitor=\"val_loss\", \n",
    "                             save_best_only=False)\n",
    "\n",
    "model = build_mlp(input_shape=x_train.shape[1:])\n",
    "model.summary()\n",
    "optimizer = keras.optimizers.SGD(lr=LEARNING_RATE, nesterov=True, momentum=MOMENTUM)\n",
    "model.compile(loss=\"categorical_crossentropy\", metrics=[\"accuracy\"], optimizer=optimizer)\n",
    "\n",
    "model.fit(x_train, y_train, \n",
    "          epochs=EPOCHS, \n",
    "          batch_size=BATCH_SIZE, \n",
    "          validation_data=(x_test, y_test), \n",
    "          shuffle=True,\n",
    "          callbacks=[model_ckpt]\n",
    "         )\n",
    "\n",
    "# Collect results\n",
    "train_loss = model.history.history[\"loss\"]\n",
    "valid_loss = model.history.history[\"val_loss\"]\n",
    "train_acc = model.history.history[\"accuracy\"]\n",
    "valid_acc = model.history.history[\"val_accuracy\"]\n",
    "\n",
    "# Load back\n",
    "model = keras.models.load_model(\"./tmp.h5\")\n",
    "loss_loadback, acc_loadback = model.evaluate(x_test, y_test)\n"
   ]
  },
  {
   "cell_type": "code",
   "execution_count": 8,
   "metadata": {
    "scrolled": false
   },
   "outputs": [
    {
     "data": {
      "image/png": "[encoded data removed]",
      "text/plain": [
       "<Figure size 432x288 with 1 Axes>"
      ]
     },
     "metadata": {
      "needs_background": "light"
     },
     "output_type": "display_data"
    },
    {
     "data": {
      "image/png": "[encoded data removed]",
      "text/plain": [
       "<Figure size 432x288 with 1 Axes>"
      ]
     },
     "metadata": {
      "needs_background": "light"
     },
     "output_type": "display_data"
    }
   ],
   "source": [
    "import matplotlib.pyplot as plt\n",
    "%matplotlib inline\n",
    "\n",
    "plt.plot(range(len(train_loss)), train_loss, label=\"train loss\")\n",
    "plt.plot(range(len(valid_loss)), valid_loss, label=\"valid loss\")\n",
    "plt.hlines(y=loss_loadback, xmin=0, xmax=len(train_loss), colors='r', linestyles='--')\n",
    "plt.legend()\n",
    "plt.title(\"Loss\")\n",
    "plt.show()\n",
    "\n",
    "plt.plot(range(len(train_acc)), train_acc, label=\"train accuracy\")\n",
    "plt.plot(range(len(valid_acc)), valid_acc, label=\"valid accuracy\")\n",
    "plt.hlines(y=acc_loadback, xmin=0, xmax=len(train_loss), colors='r', linestyles='--')\n",
    "plt.legend()\n",
    "plt.title(\"Accuracy\")\n",
    "plt.show()"
   ]
  },
  {
   "cell_type": "code",
   "execution_count": 9,
   "metadata": {},
   "outputs": [
    {
     "name": "stdout",
     "output_type": "stream",
     "text": [
      "Model: \"model_1\"\n",
      "_________________________________________________________________\n",
      "Layer (type)                 Output Shape              Param #   \n",
      "=================================================================\n",
      "input_2 (InputLayer)         [(None, 3072)]            0         \n",
      "_________________________________________________________________\n",
      "hidden_layer1 (Dense)        (None, 512)               1573376   \n",
      "_________________________________________________________________\n",
      "batch_normalization_3 (Batch (None, 512)               2048      \n",
      "_________________________________________________________________\n",
      "hidden_layer2 (Dense)        (None, 256)               131328    \n",
      "_________________________________________________________________\n",
      "batch_normalization_4 (Batch (None, 256)               1024      \n",
      "_________________________________________________________________\n",
      "hidden_layer3 (Dense)        (None, 128)               32896     \n",
      "_________________________________________________________________\n",
      "batch_normalization_5 (Batch (None, 128)               512       \n",
      "_________________________________________________________________\n",
      "output (Dense)               (None, 10)                1290      \n",
      "=================================================================\n",
      "Total params: 1,742,474\n",
      "Trainable params: 1,740,682\n",
      "Non-trainable params: 1,792\n",
      "_________________________________________________________________\n",
      "Epoch 1/50\n",
      "49/49 [==============================] - 3s 65ms/step - loss: 2.1926 - accuracy: 0.2688 - val_loss: 2.1779 - val_accuracy: 0.1666\n",
      "Epoch 2/50\n",
      "49/49 [==============================] - 3s 53ms/step - loss: 1.7434 - accuracy: 0.3896 - val_loss: 1.9993 - val_accuracy: 0.2933\n",
      "Epoch 3/50\n",
      "49/49 [==============================] - 2s 42ms/step - loss: 1.6190 - accuracy: 0.4309 - val_loss: 1.8346 - val_accuracy: 0.3688\n",
      "Epoch 4/50\n",
      "49/49 [==============================] - 2s 42ms/step - loss: 1.5455 - accuracy: 0.4563 - val_loss: 1.7310 - val_accuracy: 0.4008\n",
      "Epoch 5/50\n",
      "49/49 [==============================] - 2s 38ms/step - loss: 1.4892 - accuracy: 0.4760 - val_loss: 1.6404 - val_accuracy: 0.4244\n",
      "Epoch 6/50\n",
      "49/49 [==============================] - 2s 38ms/step - loss: 1.4443 - accuracy: 0.4925 - val_loss: 1.5829 - val_accuracy: 0.4430\n",
      "Epoch 7/50\n",
      "49/49 [==============================] - 2s 42ms/step - loss: 1.4026 - accuracy: 0.5081 - val_loss: 1.5481 - val_accuracy: 0.4532\n",
      "Epoch 8/50\n",
      "49/49 [==============================] - 2s 41ms/step - loss: 1.3673 - accuracy: 0.5204 - val_loss: 1.5169 - val_accuracy: 0.4652\n",
      "Epoch 9/50\n",
      "49/49 [==============================] - 2s 41ms/step - loss: 1.3345 - accuracy: 0.5323 - val_loss: 1.4952 - val_accuracy: 0.4694\n",
      "Epoch 10/50\n",
      "49/49 [==============================] - 2s 49ms/step - loss: 1.3035 - accuracy: 0.5433 - val_loss: 1.4791 - val_accuracy: 0.4724\n",
      "Epoch 11/50\n",
      "49/49 [==============================] - 3s 51ms/step - loss: 1.2751 - accuracy: 0.5557 - val_loss: 1.4719 - val_accuracy: 0.4782\n",
      "Epoch 12/50\n",
      "49/49 [==============================] - 2s 44ms/step - loss: 1.2495 - accuracy: 0.5653 - val_loss: 1.4701 - val_accuracy: 0.4745\n",
      "Epoch 13/50\n",
      "49/49 [==============================] - 2s 43ms/step - loss: 1.2240 - accuracy: 0.5741 - val_loss: 1.4572 - val_accuracy: 0.4810\n",
      "Epoch 14/50\n",
      "49/49 [==============================] - 2s 41ms/step - loss: 1.1976 - accuracy: 0.5842 - val_loss: 1.4598 - val_accuracy: 0.4839\n",
      "Epoch 15/50\n",
      "49/49 [==============================] - 2s 44ms/step - loss: 1.1740 - accuracy: 0.5924 - val_loss: 1.4494 - val_accuracy: 0.4838\n",
      "Epoch 16/50\n",
      "49/49 [==============================] - 2s 40ms/step - loss: 1.1498 - accuracy: 0.6040 - val_loss: 1.4614 - val_accuracy: 0.4853\n",
      "Epoch 17/50\n",
      "49/49 [==============================] - 1s 30ms/step - loss: 1.1291 - accuracy: 0.6118 - val_loss: 1.4513 - val_accuracy: 0.4902\n",
      "Epoch 18/50\n",
      "49/49 [==============================] - 1s 28ms/step - loss: 1.1048 - accuracy: 0.6189 - val_loss: 1.4565 - val_accuracy: 0.4854\n",
      "Epoch 19/50\n",
      "49/49 [==============================] - 2s 34ms/step - loss: 1.0838 - accuracy: 0.6289 - val_loss: 1.4465 - val_accuracy: 0.4906\n",
      "Epoch 20/50\n",
      "49/49 [==============================] - 1s 28ms/step - loss: 1.0632 - accuracy: 0.6362 - val_loss: 1.4507 - val_accuracy: 0.4843\n",
      "Epoch 21/50\n",
      "49/49 [==============================] - 1s 30ms/step - loss: 1.0426 - accuracy: 0.6444 - val_loss: 1.4467 - val_accuracy: 0.4936\n",
      "Epoch 22/50\n",
      "49/49 [==============================] - 2s 38ms/step - loss: 1.0215 - accuracy: 0.6523 - val_loss: 1.4462 - val_accuracy: 0.4967\n",
      "Epoch 23/50\n",
      "49/49 [==============================] - 1s 30ms/step - loss: 0.9992 - accuracy: 0.6612 - val_loss: 1.4504 - val_accuracy: 0.4947\n",
      "Epoch 24/50\n",
      "49/49 [==============================] - 2s 37ms/step - loss: 0.9796 - accuracy: 0.6690 - val_loss: 1.4551 - val_accuracy: 0.4994\n",
      "Epoch 25/50\n",
      "49/49 [==============================] - 2s 42ms/step - loss: 0.9569 - accuracy: 0.6781 - val_loss: 1.4532 - val_accuracy: 0.4953\n",
      "Epoch 26/50\n",
      "49/49 [==============================] - 1s 28ms/step - loss: 0.9384 - accuracy: 0.6842 - val_loss: 1.4635 - val_accuracy: 0.4895\n",
      "Epoch 27/50\n",
      "49/49 [==============================] - 1s 27ms/step - loss: 0.9178 - accuracy: 0.6926 - val_loss: 1.4591 - val_accuracy: 0.4971\n",
      "Epoch 28/50\n",
      "49/49 [==============================] - 1s 28ms/step - loss: 0.8989 - accuracy: 0.6999 - val_loss: 1.4639 - val_accuracy: 0.4991\n",
      "Epoch 29/50\n",
      "49/49 [==============================] - 1s 28ms/step - loss: 0.8787 - accuracy: 0.7095 - val_loss: 1.4638 - val_accuracy: 0.5005\n",
      "Epoch 30/50\n",
      "49/49 [==============================] - 1s 28ms/step - loss: 0.8575 - accuracy: 0.7163 - val_loss: 1.4718 - val_accuracy: 0.4937\n",
      "Epoch 31/50\n",
      "49/49 [==============================] - 2s 32ms/step - loss: 0.8385 - accuracy: 0.7243 - val_loss: 1.4763 - val_accuracy: 0.4934\n",
      "Epoch 32/50\n",
      "49/49 [==============================] - 1s 28ms/step - loss: 0.8184 - accuracy: 0.7327 - val_loss: 1.4914 - val_accuracy: 0.4984\n",
      "Epoch 33/50\n",
      "49/49 [==============================] - 1s 28ms/step - loss: 0.8001 - accuracy: 0.7405 - val_loss: 1.4967 - val_accuracy: 0.4950\n",
      "Epoch 34/50\n",
      "49/49 [==============================] - 1s 27ms/step - loss: 0.7821 - accuracy: 0.7458 - val_loss: 1.5064 - val_accuracy: 0.4890\n",
      "Epoch 35/50\n",
      "49/49 [==============================] - 1s 30ms/step - loss: 0.7622 - accuracy: 0.7549 - val_loss: 1.5008 - val_accuracy: 0.4996\n",
      "Epoch 36/50\n",
      "49/49 [==============================] - 1s 30ms/step - loss: 0.7436 - accuracy: 0.7619 - val_loss: 1.5276 - val_accuracy: 0.4927\n",
      "Epoch 37/50\n",
      "49/49 [==============================] - 1s 29ms/step - loss: 0.7246 - accuracy: 0.7698 - val_loss: 1.5152 - val_accuracy: 0.4953\n",
      "Epoch 38/50\n",
      "49/49 [==============================] - 1s 28ms/step - loss: 0.7051 - accuracy: 0.7757 - val_loss: 1.5308 - val_accuracy: 0.4950\n",
      "Epoch 39/50\n",
      "49/49 [==============================] - 2s 31ms/step - loss: 0.6882 - accuracy: 0.7844 - val_loss: 1.5343 - val_accuracy: 0.4987\n",
      "Epoch 40/50\n",
      "49/49 [==============================] - 1s 28ms/step - loss: 0.6699 - accuracy: 0.7907 - val_loss: 1.5428 - val_accuracy: 0.4909\n",
      "Epoch 41/50\n",
      "49/49 [==============================] - 1s 27ms/step - loss: 0.6498 - accuracy: 0.7997 - val_loss: 1.5639 - val_accuracy: 0.4883\n",
      "Epoch 42/50\n",
      "49/49 [==============================] - 1s 28ms/step - loss: 0.6343 - accuracy: 0.8048 - val_loss: 1.5623 - val_accuracy: 0.4925\n",
      "Epoch 43/50\n",
      "49/49 [==============================] - 39s 790ms/step - loss: 0.6163 - accuracy: 0.8125 - val_loss: 1.5902 - val_accuracy: 0.4884\n",
      "Epoch 44/50\n",
      "49/49 [==============================] - 2s 32ms/step - loss: 0.5972 - accuracy: 0.8190 - val_loss: 1.5961 - val_accuracy: 0.4955\n",
      "Epoch 45/50\n",
      "49/49 [==============================] - 1s 27ms/step - loss: 0.5802 - accuracy: 0.8256 - val_loss: 1.6136 - val_accuracy: 0.4892\n",
      "Epoch 46/50\n",
      "49/49 [==============================] - 1s 28ms/step - loss: 0.5643 - accuracy: 0.8329 - val_loss: 1.5946 - val_accuracy: 0.4972\n",
      "Epoch 47/50\n",
      "49/49 [==============================] - 1s 28ms/step - loss: 0.5460 - accuracy: 0.8400 - val_loss: 1.6281 - val_accuracy: 0.4893\n",
      "Epoch 48/50\n",
      "49/49 [==============================] - 2s 40ms/step - loss: 0.5282 - accuracy: 0.8459 - val_loss: 1.6296 - val_accuracy: 0.4916\n"
     ]
    },
    {
     "name": "stdout",
     "output_type": "stream",
     "text": [
      "Epoch 49/50\n",
      "49/49 [==============================] - 1s 29ms/step - loss: 0.5138 - accuracy: 0.8527 - val_loss: 1.6441 - val_accuracy: 0.4884\n",
      "Epoch 50/50\n",
      "49/49 [==============================] - 2s 40ms/step - loss: 0.4988 - accuracy: 0.8579 - val_loss: 1.6740 - val_accuracy: 0.4840\n",
      "313/313 [==============================] - 2s 5ms/step - loss: 1.4462 - accuracy: 0.4967\n"
     ]
    }
   ],
   "source": [
    "# 載入 Callbacks\n",
    "\"\"\"Code Here\n",
    "設定 callbacks: model checkpoint\n",
    "\"\"\"\n",
    "from keras.callbacks import ModelCheckpoint\n",
    "\n",
    "model_ckpt = ModelCheckpoint(filepath=\"./tmp.h5\", \n",
    "                             monitor=\"val_loss\", \n",
    "                             save_best_only=True)\n",
    "\n",
    "model = build_mlp(input_shape=x_train.shape[1:])\n",
    "model.summary()\n",
    "optimizer = keras.optimizers.SGD(lr=LEARNING_RATE, nesterov=True, momentum=MOMENTUM)\n",
    "model.compile(loss=\"categorical_crossentropy\", metrics=[\"accuracy\"], optimizer=optimizer)\n",
    "\n",
    "model.fit(x_train, y_train, \n",
    "          epochs=EPOCHS, \n",
    "          batch_size=BATCH_SIZE, \n",
    "          validation_data=(x_test, y_test), \n",
    "          shuffle=True,\n",
    "          callbacks=[model_ckpt]\n",
    "         )\n",
    "\n",
    "model.save(\"final_model.h5\")\n",
    "model.save_weights(\"model_weights.h5\")\n",
    "\n",
    "# Collect results\n",
    "train_loss = model.history.history[\"loss\"]\n",
    "valid_loss = model.history.history[\"val_loss\"]\n",
    "train_acc = model.history.history[\"accuracy\"]\n",
    "valid_acc = model.history.history[\"val_accuracy\"]\n",
    "\n",
    "# Load back\n",
    "model = keras.models.load_model(\"./tmp.h5\")\n",
    "loss_loadback, acc_loadback = model.evaluate(x_test, y_test)"
   ]
  },
  {
   "cell_type": "code",
   "execution_count": 10,
   "metadata": {},
   "outputs": [
    {
     "data": {
      "image/png": "[encoded data removed]",
      "text/plain": [
       "<Figure size 432x288 with 1 Axes>"
      ]
     },
     "metadata": {
      "needs_background": "light"
     },
     "output_type": "display_data"
    },
    {
     "data": {
      "image/png": "[encoded data removed]",
      "text/plain": [
       "<Figure size 432x288 with 1 Axes>"
      ]
     },
     "metadata": {
      "needs_background": "light"
     },
     "output_type": "display_data"
    }
   ],
   "source": [
    "import matplotlib.pyplot as plt\n",
    "%matplotlib inline\n",
    "\n",
    "plt.plot(range(len(train_loss)), train_loss, label=\"train loss\")\n",
    "plt.plot(range(len(valid_loss)), valid_loss, label=\"valid loss\")\n",
    "plt.hlines(y=loss_loadback, xmin=0, xmax=len(train_loss), colors='r', linestyles='--')\n",
    "plt.legend()\n",
    "plt.title(\"Loss\")\n",
    "plt.show()\n",
    "\n",
    "plt.plot(range(len(train_acc)), train_acc, label=\"train accuracy\")\n",
    "plt.plot(range(len(valid_acc)), valid_acc, label=\"valid accuracy\")\n",
    "plt.hlines(y=acc_loadback, xmin=0, xmax=len(train_loss), colors='r', linestyles='--')\n",
    "plt.legend()\n",
    "plt.title(\"Accuracy\")\n",
    "plt.show()"
   ]
  },
  {
   "cell_type": "code",
   "execution_count": 11,
   "metadata": {},
   "outputs": [
    {
     "name": "stdout",
     "output_type": "stream",
     "text": [
      "313/313 [==============================] - 1s 5ms/step - loss: 1.4462 - accuracy: 0.4967\n",
      "Accuracy of final weights: 0.497\n",
      "Accuracy of best weights: 0.497\n"
     ]
    }
   ],
   "source": [
    "from sklearn.metrics import accuracy_score\n",
    "\n",
    "pred_final = model.predict(x_test)\n",
    "\n",
    "# Load back\n",
    "model = keras.models.load_model(\"./tmp.h5\")\n",
    "pred_loadback = model.predict(x_test)\n",
    "loss_loadback, acc_loadback = model.evaluate(x_test, y_test)\n",
    "\n",
    "\n",
    "final_model_acc = accuracy_score(y_true=y_test.argmax(axis=-1), y_pred=pred_final.argmax(axis=-1))\n",
    "loadback_acc = accuracy_score(y_true=y_test.argmax(axis=-1), y_pred=pred_loadback.argmax(axis=-1))\n",
    "\n",
    "print(\"Accuracy of final weights: %.3f\" % final_model_acc)\n",
    "print(\"Accuracy of best weights: %.3f\" % loadback_acc)"
   ]
  },
  {
   "cell_type": "code",
   "execution_count": 12,
   "metadata": {},
   "outputs": [
    {
     "name": "stdout",
     "output_type": "stream",
     "text": [
      "Accuracy of best weights: 0.099\n",
      "Accuracy of best weights: 0.484\n"
     ]
    }
   ],
   "source": [
    "new_model = build_mlp(input_shape=x_train.shape[1:])\n",
    "\n",
    "new_model_pred = new_model.predict(x_test)\n",
    "\n",
    "new_model_acc = accuracy_score(y_true=y_test.argmax(axis=-1), y_pred=new_model_pred.argmax(axis=-1))\n",
    "print(\"Accuracy of best weights: %.3f\" % new_model_acc)\n",
    "\n",
    "new_model.load_weights(\"./model_weights.h5\")\n",
    "new_model_pred = new_model.predict(x_test)\n",
    "new_model_loadback_acc = accuracy_score(y_true=y_test.argmax(axis=-1), y_pred=new_model_pred.argmax(axis=-1))\n",
    "print(\"Accuracy of best weights: %.3f\" % new_model_loadback_acc)"
   ]
  }
 ],
 "metadata": {
  "kernelspec": {
   "display_name": "Python 3",
   "language": "python",
   "name": "python3"
  },
  "language_info": {
   "codemirror_mode": {
    "name": "ipython",
    "version": 3
   },
   "file_extension": ".py",
   "mimetype": "text/x-python",
   "name": "python",
   "nbconvert_exporter": "python",
   "pygments_lexer": "ipython3",
   "version": "3.8.3"
  }
 },
 "nbformat": 4,
 "nbformat_minor": 2
}
