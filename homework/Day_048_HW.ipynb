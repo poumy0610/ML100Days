{
 "cells": [
  {
   "cell_type": "code",
   "execution_count": 47,
   "metadata": {
    "scrolled": false
   },
   "outputs": [],
   "source": [
    "import pandas as pd\n",
    "import numpy as np\n",
    "import copy\n",
    "#from sklearn.preprocessing import MinMaxScaler, StandardScaler\n",
    "from sklearn.model_selection import cross_val_score\n",
    "#from sklearn.linear_model import LogisticRegression\n",
    "#from sklearn.linear_model import LinearRegression\n",
    "from scipy import stats\n",
    "# 離群值\n",
    "import matplotlib.pyplot as plt\n",
    "from sklearn.model_selection import train_test_split\n",
    "from sklearn.ensemble import GradientBoostingClassifier\n",
    "from sklearn import datasets, metrics\n",
    "from sklearn.model_selection import GridSearchCV\n",
    "from scipy.stats import uniform\n",
    "\n",
    "#載入資料集\n",
    "data_path = 'data/Kaggle/'\n",
    "df_train = pd.read_csv(data_path + 'train.csv', header=None)\n",
    "df_train_Y = pd.read_csv(data_path + 'trainLabels.csv', header=None)\n",
    "df_test = pd.read_csv(data_path + 'test.csv.zip', header=None)\n",
    "\n",
    "#自定義column名稱\n",
    "l = []\n",
    "for i in range(40):\n",
    "        l.append('p'+str(i+1))\n",
    "\n",
    "df_train = pd.DataFrame(data = np.array(df_train), columns=l)"
   ]
  },
  {
   "cell_type": "code",
   "execution_count": 48,
   "metadata": {},
   "outputs": [
    {
     "data": {
      "text/plain": [
       "p40    0\n",
       "p39    0\n",
       "p18    0\n",
       "p17    0\n",
       "p16    0\n",
       "p15    0\n",
       "p14    0\n",
       "p13    0\n",
       "p12    0\n",
       "p11    0\n",
       "p10    0\n",
       "p9     0\n",
       "p8     0\n",
       "p7     0\n",
       "p6     0\n",
       "p5     0\n",
       "p4     0\n",
       "p3     0\n",
       "p2     0\n",
       "p19    0\n",
       "p20    0\n",
       "p21    0\n",
       "p31    0\n",
       "p38    0\n",
       "p37    0\n",
       "p36    0\n",
       "p35    0\n",
       "p34    0\n",
       "p33    0\n",
       "p32    0\n",
       "p30    0\n",
       "p22    0\n",
       "p29    0\n",
       "p28    0\n",
       "p27    0\n",
       "p26    0\n",
       "p25    0\n",
       "p24    0\n",
       "p23    0\n",
       "p1     0\n",
       "dtype: int64"
      ]
     },
     "execution_count": 48,
     "metadata": {},
     "output_type": "execute_result"
    }
   ],
   "source": [
    "#確認缺值情況\n",
    "df_train.isnull().sum().sort_values(ascending=False)"
   ]
  },
  {
   "cell_type": "code",
   "execution_count": 49,
   "metadata": {},
   "outputs": [
    {
     "name": "stdout",
     "output_type": "stream",
     "text": [
      "count    1000.000000\n",
      "mean        0.025596\n",
      "std         1.008282\n",
      "min        -3.365711\n",
      "25%        -0.669010\n",
      "50%         0.027895\n",
      "75%         0.762520\n",
      "max         3.326246\n",
      "Name: p1, dtype: float64\n",
      "\n",
      "\n"
     ]
    },
    {
     "data": {
      "image/png": "[encoded data removed]",
      "text/plain": [
       "<Figure size 432x288 with 1 Axes>"
      ]
     },
     "metadata": {
      "needs_background": "light"
     },
     "output_type": "display_data"
    },
    {
     "name": "stdout",
     "output_type": "stream",
     "text": [
      "count    1000.000000\n",
      "mean       -0.024526\n",
      "std         1.016298\n",
      "min        -3.492086\n",
      "25%        -0.693937\n",
      "50%        -0.033194\n",
      "75%         0.682753\n",
      "max         3.583870\n",
      "Name: p2, dtype: float64\n",
      "\n",
      "\n"
     ]
    },
    {
     "data": {
      "image/png": "[encoded data removed]",
      "text/plain": [
       "<Figure size 432x288 with 1 Axes>"
      ]
     },
     "metadata": {
      "needs_background": "light"
     },
     "output_type": "display_data"
    },
    {
     "name": "stdout",
     "output_type": "stream",
     "text": [
      "count    1000.000000\n",
      "mean       -0.024088\n",
      "std         0.979109\n",
      "min        -2.695602\n",
      "25%        -0.698830\n",
      "50%         0.008145\n",
      "75%         0.661434\n",
      "max         2.546507\n",
      "Name: p3, dtype: float64\n",
      "\n",
      "\n"
     ]
    },
    {
     "data": {
      "image/png": "[encoded data removed]",
      "text/plain": [
       "<Figure size 432x288 with 1 Axes>"
      ]
     },
     "metadata": {
      "needs_background": "light"
     },
     "output_type": "display_data"
    },
    {
     "name": "stdout",
     "output_type": "stream",
     "text": [
      "count    1000.000000\n",
      "mean       -0.002271\n",
      "std         0.970575\n",
      "min        -3.460471\n",
      "25%        -0.617557\n",
      "50%         0.002327\n",
      "75%         0.640743\n",
      "max         3.088738\n",
      "Name: p4, dtype: float64\n",
      "\n",
      "\n"
     ]
    },
    {
     "data": {
      "image/png": "[encoded data removed]",
      "text/plain": [
       "<Figure size 432x288 with 1 Axes>"
      ]
     },
     "metadata": {
      "needs_background": "light"
     },
     "output_type": "display_data"
    },
    {
     "name": "stdout",
     "output_type": "stream",
     "text": [
      "count    1000.000000\n",
      "mean        1.092329\n",
      "std         4.538834\n",
      "min       -16.421901\n",
      "25%        -1.801997\n",
      "50%         0.862818\n",
      "75%         3.843172\n",
      "max        17.565345\n",
      "Name: p5, dtype: float64\n",
      "\n",
      "\n"
     ]
    },
    {
     "data": {
      "image/png": "[encoded data removed]",
      "text/plain": [
       "<Figure size 432x288 with 1 Axes>"
      ]
     },
     "metadata": {
      "needs_background": "light"
     },
     "output_type": "display_data"
    },
    {
     "name": "stdout",
     "output_type": "stream",
     "text": [
      "count    1000.000000\n",
      "mean       -0.006250\n",
      "std         0.989128\n",
      "min        -3.041250\n",
      "25%        -0.732265\n",
      "50%         0.027041\n",
      "75%         0.671456\n",
      "max         3.102997\n",
      "Name: p6, dtype: float64\n",
      "\n",
      "\n"
     ]
    },
    {
     "data": {
      "image/png": "[encoded data removed]",
      "text/plain": [
       "<Figure size 432x288 with 1 Axes>"
      ]
     },
     "metadata": {
      "needs_background": "light"
     },
     "output_type": "display_data"
    },
    {
     "name": "stdout",
     "output_type": "stream",
     "text": [
      "count    1000.000000\n",
      "mean        0.497342\n",
      "std         2.118819\n",
      "min        -7.224761\n",
      "25%        -0.838619\n",
      "50%         0.582321\n",
      "75%         1.913664\n",
      "max         7.592666\n",
      "Name: p7, dtype: float64\n",
      "\n",
      "\n"
     ]
    },
    {
     "data": {
      "image/png": "[encoded data removed]",
      "text/plain": [
       "<Figure size 432x288 with 1 Axes>"
      ]
     },
     "metadata": {
      "needs_background": "light"
     },
     "output_type": "display_data"
    },
    {
     "name": "stdout",
     "output_type": "stream",
     "text": [
      "count    1000.000000\n",
      "mean       -0.037883\n",
      "std         2.232256\n",
      "min        -6.509084\n",
      "25%        -1.604037\n",
      "50%         0.018809\n",
      "75%         1.438304\n",
      "max         7.130097\n",
      "Name: p8, dtype: float64\n",
      "\n",
      "\n"
     ]
    },
    {
     "data": {
      "image/png": "[encoded data removed]",
      "text/plain": [
       "<Figure size 432x288 with 1 Axes>"
      ]
     },
     "metadata": {
      "needs_background": "light"
     },
     "output_type": "display_data"
    },
    {
     "name": "stdout",
     "output_type": "stream",
     "text": [
      "count    1000.000000\n",
      "mean        0.026391\n",
      "std         1.001064\n",
      "min        -3.145588\n",
      "25%        -0.677562\n",
      "50%         0.022092\n",
      "75%         0.741310\n",
      "max         3.145258\n",
      "Name: p9, dtype: float64\n",
      "\n",
      "\n"
     ]
    },
    {
     "data": {
      "image/png": "[encoded data removed]",
      "text/plain": [
       "<Figure size 432x288 with 1 Axes>"
      ]
     },
     "metadata": {
      "needs_background": "light"
     },
     "output_type": "display_data"
    },
    {
     "name": "stdout",
     "output_type": "stream",
     "text": [
      "count    1000.000000\n",
      "mean       -0.003597\n",
      "std         1.013520\n",
      "min        -2.749812\n",
      "25%        -0.682220\n",
      "50%        -0.036110\n",
      "75%         0.665364\n",
      "max         3.919426\n",
      "Name: p10, dtype: float64\n",
      "\n",
      "\n"
     ]
    },
    {
     "data": {
      "image/png": "[encoded data removed]",
      "text/plain": [
       "<Figure size 432x288 with 1 Axes>"
      ]
     },
     "metadata": {
      "needs_background": "light"
     },
     "output_type": "display_data"
    },
    {
     "name": "stdout",
     "output_type": "stream",
     "text": [
      "count    1000.000000\n",
      "mean       -0.016250\n",
      "std         1.026325\n",
      "min        -3.304074\n",
      "25%        -0.713704\n",
      "50%         0.019479\n",
      "75%         0.709416\n",
      "max         3.409653\n",
      "Name: p11, dtype: float64\n",
      "\n",
      "\n"
     ]
    },
    {
     "data": {
      "image/png": "[encoded data removed]",
      "text/plain": [
       "<Figure size 432x288 with 1 Axes>"
      ]
     },
     "metadata": {
      "needs_background": "light"
     },
     "output_type": "display_data"
    },
    {
     "name": "stdout",
     "output_type": "stream",
     "text": [
      "count    1000.000000\n",
      "mean       -0.038010\n",
      "std         0.985889\n",
      "min        -3.157436\n",
      "25%        -0.730293\n",
      "50%        -0.075950\n",
      "75%         0.644553\n",
      "max         3.253032\n",
      "Name: p12, dtype: float64\n",
      "\n",
      "\n"
     ]
    },
    {
     "data": {
      "image/png": "[encoded data removed]",
      "text/plain": [
       "<Figure size 432x288 with 1 Axes>"
      ]
     },
     "metadata": {
      "needs_background": "light"
     },
     "output_type": "display_data"
    },
    {
     "name": "stdout",
     "output_type": "stream",
     "text": [
      "count    1000.000000\n",
      "mean       -1.985616\n",
      "std         4.528096\n",
      "min       -14.706080\n",
      "25%        -5.094964\n",
      "50%        -2.103532\n",
      "75%         1.186164\n",
      "max        12.186445\n",
      "Name: p13, dtype: float64\n",
      "\n",
      "\n"
     ]
    },
    {
     "data": {
      "image/png": "[encoded data removed]",
      "text/plain": [
       "<Figure size 432x288 with 1 Axes>"
      ]
     },
     "metadata": {
      "needs_background": "light"
     },
     "output_type": "display_data"
    },
    {
     "name": "stdout",
     "output_type": "stream",
     "text": [
      "count    1000.000000\n",
      "mean        0.012374\n",
      "std         0.995652\n",
      "min        -3.002151\n",
      "25%        -0.694081\n",
      "50%        -0.005946\n",
      "75%         0.664921\n",
      "max         3.737423\n",
      "Name: p14, dtype: float64\n",
      "\n",
      "\n"
     ]
    },
    {
     "data": {
      "image/png": "[encoded data removed]",
      "text/plain": [
       "<Figure size 432x288 with 1 Axes>"
      ]
     },
     "metadata": {
      "needs_background": "light"
     },
     "output_type": "display_data"
    },
    {
     "name": "stdout",
     "output_type": "stream",
     "text": [
      "count    1000.000000\n",
      "mean       -0.029229\n",
      "std         2.164547\n",
      "min        -6.790633\n",
      "25%        -1.441443\n",
      "50%        -0.033219\n",
      "75%         1.492611\n",
      "max         6.959736\n",
      "Name: p15, dtype: float64\n",
      "\n",
      "\n"
     ]
    },
    {
     "data": {
      "image/png": "[encoded data removed]",
      "text/plain": [
       "<Figure size 432x288 with 1 Axes>"
      ]
     },
     "metadata": {
      "needs_background": "light"
     },
     "output_type": "display_data"
    },
    {
     "name": "stdout",
     "output_type": "stream",
     "text": [
      "count    1000.000000\n",
      "mean       -0.039307\n",
      "std         1.002481\n",
      "min        -2.914729\n",
      "25%        -0.757619\n",
      "50%        -0.019046\n",
      "75%         0.678748\n",
      "max         3.100935\n",
      "Name: p16, dtype: float64\n",
      "\n",
      "\n"
     ]
    },
    {
     "data": {
      "image/png": "[encoded data removed]",
      "text/plain": [
       "<Figure size 432x288 with 1 Axes>"
      ]
     },
     "metadata": {
      "needs_background": "light"
     },
     "output_type": "display_data"
    },
    {
     "name": "stdout",
     "output_type": "stream",
     "text": [
      "count    1000.000000\n",
      "mean       -0.004091\n",
      "std         0.970401\n",
      "min        -3.464048\n",
      "25%        -0.668335\n",
      "50%         0.008360\n",
      "75%         0.674583\n",
      "max         2.805197\n",
      "Name: p17, dtype: float64\n",
      "\n",
      "\n"
     ]
    },
    {
     "data": {
      "image/png": "[encoded data removed]",
      "text/plain": [
       "<Figure size 432x288 with 1 Axes>"
      ]
     },
     "metadata": {
      "needs_background": "light"
     },
     "output_type": "display_data"
    },
    {
     "name": "stdout",
     "output_type": "stream",
     "text": [
      "count    1000.000000\n",
      "mean       -0.032836\n",
      "std         1.000130\n",
      "min        -2.944093\n",
      "25%        -0.727001\n",
      "50%        -0.011366\n",
      "75%         0.588732\n",
      "max         3.291544\n",
      "Name: p18, dtype: float64\n",
      "\n",
      "\n"
     ]
    },
    {
     "data": {
      "image/png": "[encoded data removed]",
      "text/plain": [
       "<Figure size 432x288 with 1 Axes>"
      ]
     },
     "metadata": {
      "needs_background": "light"
     },
     "output_type": "display_data"
    },
    {
     "name": "stdout",
     "output_type": "stream",
     "text": [
      "count    1000.000000\n",
      "mean        0.428313\n",
      "std         2.176020\n",
      "min        -8.258306\n",
      "25%        -0.983595\n",
      "50%         0.488217\n",
      "75%         1.915022\n",
      "max         7.074432\n",
      "Name: p19, dtype: float64\n",
      "\n",
      "\n"
     ]
    },
    {
     "data": {
      "image/png": "[encoded data removed]",
      "text/plain": [
       "<Figure size 432x288 with 1 Axes>"
      ]
     },
     "metadata": {
      "needs_background": "light"
     },
     "output_type": "display_data"
    },
    {
     "name": "stdout",
     "output_type": "stream",
     "text": [
      "count    1000.000000\n",
      "mean        0.043427\n",
      "std         0.987689\n",
      "min        -3.423875\n",
      "25%        -0.594638\n",
      "50%         0.082688\n",
      "75%         0.711525\n",
      "max         3.343812\n",
      "Name: p20, dtype: float64\n",
      "\n",
      "\n"
     ]
    },
    {
     "data": {
      "image/png": "[encoded data removed]",
      "text/plain": [
       "<Figure size 432x288 with 1 Axes>"
      ]
     },
     "metadata": {
      "needs_background": "light"
     },
     "output_type": "display_data"
    },
    {
     "name": "stdout",
     "output_type": "stream",
     "text": [
      "count    1000.000000\n",
      "mean        0.073461\n",
      "std         0.967282\n",
      "min        -4.251382\n",
      "25%        -0.588171\n",
      "50%         0.094307\n",
      "75%         0.727896\n",
      "max         2.938033\n",
      "Name: p21, dtype: float64\n",
      "\n",
      "\n"
     ]
    },
    {
     "data": {
      "image/png": "[encoded data removed]",
      "text/plain": [
       "<Figure size 432x288 with 1 Axes>"
      ]
     },
     "metadata": {
      "needs_background": "light"
     },
     "output_type": "display_data"
    },
    {
     "name": "stdout",
     "output_type": "stream",
     "text": [
      "count    1000.000000\n",
      "mean       -0.005140\n",
      "std         0.980319\n",
      "min        -2.822644\n",
      "25%        -0.698036\n",
      "50%        -0.004404\n",
      "75%         0.673427\n",
      "max         3.053262\n",
      "Name: p22, dtype: float64\n",
      "\n",
      "\n"
     ]
    },
    {
     "data": {
      "image/png": "[encoded data removed]",
      "text/plain": [
       "<Figure size 432x288 with 1 Axes>"
      ]
     },
     "metadata": {
      "needs_background": "light"
     },
     "output_type": "display_data"
    },
    {
     "name": "stdout",
     "output_type": "stream",
     "text": [
      "count    1000.000000\n",
      "mean        0.912288\n",
      "std         2.178778\n",
      "min        -6.337522\n",
      "25%        -0.542526\n",
      "50%         1.050071\n",
      "75%         2.367748\n",
      "max         8.096838\n",
      "Name: p23, dtype: float64\n",
      "\n",
      "\n"
     ]
    },
    {
     "data": {
      "image/png": "[encoded data removed]",
      "text/plain": [
       "<Figure size 432x288 with 1 Axes>"
      ]
     },
     "metadata": {
      "needs_background": "light"
     },
     "output_type": "display_data"
    },
    {
     "name": "stdout",
     "output_type": "stream",
     "text": [
      "count    1000.000000\n",
      "mean        0.902301\n",
      "std         4.241903\n",
      "min       -16.156070\n",
      "25%        -1.822188\n",
      "50%         0.970403\n",
      "75%         3.825862\n",
      "max        14.373681\n",
      "Name: p24, dtype: float64\n",
      "\n",
      "\n"
     ]
    },
    {
     "data": {
      "image/png": "[encoded data removed]",
      "text/plain": [
       "<Figure size 432x288 with 1 Axes>"
      ]
     },
     "metadata": {
      "needs_background": "light"
     },
     "output_type": "display_data"
    },
    {
     "name": "stdout",
     "output_type": "stream",
     "text": [
      "count    1000.000000\n",
      "mean       -0.023110\n",
      "std         1.019566\n",
      "min        -3.218446\n",
      "25%        -0.720837\n",
      "50%        -0.012183\n",
      "75%         0.671318\n",
      "max         2.981582\n",
      "Name: p25, dtype: float64\n",
      "\n",
      "\n"
     ]
    },
    {
     "data": {
      "image/png": "[encoded data removed]",
      "text/plain": [
       "<Figure size 432x288 with 1 Axes>"
      ]
     },
     "metadata": {
      "needs_background": "light"
     },
     "output_type": "display_data"
    },
    {
     "name": "stdout",
     "output_type": "stream",
     "text": [
      "count    1000.000000\n",
      "mean        0.047473\n",
      "std         0.995752\n",
      "min        -2.820792\n",
      "25%        -0.617001\n",
      "50%         0.014636\n",
      "75%         0.731892\n",
      "max         3.662800\n",
      "Name: p26, dtype: float64\n",
      "\n",
      "\n"
     ]
    },
    {
     "data": {
      "image/png": "[encoded data removed]",
      "text/plain": [
       "<Figure size 432x288 with 1 Axes>"
      ]
     },
     "metadata": {
      "needs_background": "light"
     },
     "output_type": "display_data"
    },
    {
     "name": "stdout",
     "output_type": "stream",
     "text": [
      "count    1000.000000\n",
      "mean       -0.041117\n",
      "std         0.998182\n",
      "min        -3.023811\n",
      "25%        -0.668062\n",
      "50%        -0.017535\n",
      "75%         0.642797\n",
      "max         3.293911\n",
      "Name: p27, dtype: float64\n",
      "\n",
      "\n"
     ]
    },
    {
     "data": {
      "image/png": "[encoded data removed]",
      "text/plain": [
       "<Figure size 432x288 with 1 Axes>"
      ]
     },
     "metadata": {
      "needs_background": "light"
     },
     "output_type": "display_data"
    },
    {
     "name": "stdout",
     "output_type": "stream",
     "text": [
      "count    1000.000000\n",
      "mean        0.012985\n",
      "std         1.030610\n",
      "min        -3.054384\n",
      "25%        -0.696411\n",
      "50%         0.039219\n",
      "75%         0.706336\n",
      "max         3.069885\n",
      "Name: p28, dtype: float64\n",
      "\n",
      "\n"
     ]
    },
    {
     "data": {
      "image/png": "[encoded data removed]",
      "text/plain": [
       "<Figure size 432x288 with 1 Axes>"
      ]
     },
     "metadata": {
      "needs_background": "light"
     },
     "output_type": "display_data"
    },
    {
     "name": "stdout",
     "output_type": "stream",
     "text": [
      "count    1000.000000\n",
      "mean       -0.395782\n",
      "std         2.296818\n",
      "min        -8.034421\n",
      "25%        -1.936374\n",
      "50%        -0.489296\n",
      "75%         1.044188\n",
      "max         7.413173\n",
      "Name: p29, dtype: float64\n",
      "\n",
      "\n"
     ]
    },
    {
     "data": {
      "image/png": "[encoded data removed]",
      "text/plain": [
       "<Figure size 432x288 with 1 Axes>"
      ]
     },
     "metadata": {
      "needs_background": "light"
     },
     "output_type": "display_data"
    },
    {
     "name": "stdout",
     "output_type": "stream",
     "text": [
      "count    1000.000000\n",
      "mean        0.123921\n",
      "std         2.410453\n",
      "min        -7.105723\n",
      "25%        -1.562374\n",
      "50%        -0.040604\n",
      "75%         1.614308\n",
      "max         8.812739\n",
      "Name: p30, dtype: float64\n",
      "\n",
      "\n"
     ]
    },
    {
     "data": {
      "image/png": "[encoded data removed]",
      "text/plain": [
       "<Figure size 432x288 with 1 Axes>"
      ]
     },
     "metadata": {
      "needs_background": "light"
     },
     "output_type": "display_data"
    },
    {
     "name": "stdout",
     "output_type": "stream",
     "text": [
      "count    1000.000000\n",
      "mean        0.030651\n",
      "std         1.011645\n",
      "min        -3.379194\n",
      "25%        -0.659457\n",
      "50%         0.049416\n",
      "75%         0.747031\n",
      "max         2.844792\n",
      "Name: p31, dtype: float64\n",
      "\n",
      "\n"
     ]
    },
    {
     "data": {
      "image/png": "[encoded data removed]",
      "text/plain": [
       "<Figure size 432x288 with 1 Axes>"
      ]
     },
     "metadata": {
      "needs_background": "light"
     },
     "output_type": "display_data"
    },
    {
     "name": "stdout",
     "output_type": "stream",
     "text": [
      "count    1000.000000\n",
      "mean        0.022951\n",
      "std         1.001375\n",
      "min        -2.971125\n",
      "25%        -0.696032\n",
      "50%         0.049778\n",
      "75%         0.699917\n",
      "max         3.688047\n",
      "Name: p32, dtype: float64\n",
      "\n",
      "\n"
     ]
    },
    {
     "data": {
      "image/png": "[encoded data removed]",
      "text/plain": [
       "<Figure size 432x288 with 1 Axes>"
      ]
     },
     "metadata": {
      "needs_background": "light"
     },
     "output_type": "display_data"
    },
    {
     "name": "stdout",
     "output_type": "stream",
     "text": [
      "count    1000.000000\n",
      "mean       -0.542491\n",
      "std         2.239939\n",
      "min        -7.840890\n",
      "25%        -2.121943\n",
      "50%        -0.568262\n",
      "75%         0.939348\n",
      "max         7.160379\n",
      "Name: p33, dtype: float64\n",
      "\n",
      "\n"
     ]
    },
    {
     "data": {
      "image/png": "[encoded data removed]",
      "text/plain": [
       "<Figure size 432x288 with 1 Axes>"
      ]
     },
     "metadata": {
      "needs_background": "light"
     },
     "output_type": "display_data"
    },
    {
     "name": "stdout",
     "output_type": "stream",
     "text": [
      "count    1000.000000\n",
      "mean       -0.011608\n",
      "std         1.022456\n",
      "min        -2.999564\n",
      "25%        -0.664550\n",
      "50%        -0.028097\n",
      "75%         0.651374\n",
      "max         3.353631\n",
      "Name: p34, dtype: float64\n",
      "\n",
      "\n"
     ]
    },
    {
     "data": {
      "image/png": "[encoded data removed]",
      "text/plain": [
       "<Figure size 432x288 with 1 Axes>"
      ]
     },
     "metadata": {
      "needs_background": "light"
     },
     "output_type": "display_data"
    },
    {
     "name": "stdout",
     "output_type": "stream",
     "text": [
      "count    1000.000000\n",
      "mean       -0.483507\n",
      "std         2.121281\n",
      "min        -7.124105\n",
      "25%        -1.879247\n",
      "50%        -0.493575\n",
      "75%         1.005795\n",
      "max         6.005818\n",
      "Name: p35, dtype: float64\n",
      "\n",
      "\n"
     ]
    },
    {
     "data": {
      "image/png": "[encoded data removed]",
      "text/plain": [
       "<Figure size 432x288 with 1 Axes>"
      ]
     },
     "metadata": {
      "needs_background": "light"
     },
     "output_type": "display_data"
    },
    {
     "name": "stdout",
     "output_type": "stream",
     "text": [
      "count    1000.000000\n",
      "mean        0.033371\n",
      "std         1.007044\n",
      "min        -2.952358\n",
      "25%        -0.642861\n",
      "50%         0.037732\n",
      "75%         0.691800\n",
      "max         3.420561\n",
      "Name: p36, dtype: float64\n",
      "\n",
      "\n"
     ]
    },
    {
     "data": {
      "image/png": "[encoded data removed]",
      "text/plain": [
       "<Figure size 432x288 with 1 Axes>"
      ]
     },
     "metadata": {
      "needs_background": "light"
     },
     "output_type": "display_data"
    },
    {
     "name": "stdout",
     "output_type": "stream",
     "text": [
      "count    1000.000000\n",
      "mean        0.567185\n",
      "std         2.227876\n",
      "min        -5.452254\n",
      "25%        -1.059786\n",
      "50%         0.455474\n",
      "75%         2.122157\n",
      "max         6.603499\n",
      "Name: p37, dtype: float64\n",
      "\n",
      "\n"
     ]
    },
    {
     "data": {
      "image/png": "[encoded data removed]",
      "text/plain": [
       "<Figure size 432x288 with 1 Axes>"
      ]
     },
     "metadata": {
      "needs_background": "light"
     },
     "output_type": "display_data"
    },
    {
     "name": "stdout",
     "output_type": "stream",
     "text": [
      "count    1000.000000\n",
      "mean        0.006849\n",
      "std         0.997635\n",
      "min        -3.473913\n",
      "25%        -0.691162\n",
      "50%         0.038284\n",
      "75%         0.693535\n",
      "max         3.492548\n",
      "Name: p38, dtype: float64\n",
      "\n",
      "\n"
     ]
    },
    {
     "data": {
      "image/png": "[encoded data removed]",
      "text/plain": [
       "<Figure size 432x288 with 1 Axes>"
      ]
     },
     "metadata": {
      "needs_background": "light"
     },
     "output_type": "display_data"
    },
    {
     "name": "stdout",
     "output_type": "stream",
     "text": [
      "count    1000.000000\n",
      "mean       -0.892659\n",
      "std         2.022022\n",
      "min        -8.051722\n",
      "25%        -2.220126\n",
      "50%        -0.855470\n",
      "75%         0.388698\n",
      "max         5.774120\n",
      "Name: p39, dtype: float64\n",
      "\n",
      "\n"
     ]
    },
    {
     "data": {
      "image/png": "[encoded data removed]",
      "text/plain": [
       "<Figure size 432x288 with 1 Axes>"
      ]
     },
     "metadata": {
      "needs_background": "light"
     },
     "output_type": "display_data"
    },
    {
     "name": "stdout",
     "output_type": "stream",
     "text": [
      "count    1000.000000\n",
      "mean        0.609451\n",
      "std         2.045439\n",
      "min        -7.799086\n",
      "25%        -0.565041\n",
      "50%         0.779944\n",
      "75%         1.992193\n",
      "max         6.803984\n",
      "Name: p40, dtype: float64\n",
      "\n",
      "\n"
     ]
    },
    {
     "data": {
      "image/png": "[encoded data removed]",
      "text/plain": [
       "<Figure size 432x288 with 1 Axes>"
      ]
     },
     "metadata": {
      "needs_background": "light"
     },
     "output_type": "display_data"
    }
   ],
   "source": [
    "#確認是否有離群值\n",
    "for col in df_train:\n",
    "    print(df_train[col].describe())\n",
    "    df_train[col].hist()\n",
    "    print('\\n')\n",
    "    plt.show()"
   ]
  },
  {
   "cell_type": "code",
   "execution_count": 54,
   "metadata": {},
   "outputs": [
    {
     "name": "stdout",
     "output_type": "stream",
     "text": [
      "Fitting 5 folds for each of 50 candidates, totalling 250 fits\n"
     ]
    },
    {
     "name": "stderr",
     "output_type": "stream",
     "text": [
      "[Parallel(n_jobs=-1)]: Using backend LokyBackend with 8 concurrent workers.\n",
      "[Parallel(n_jobs=-1)]: Done  34 tasks      | elapsed:    5.2s\n",
      "[Parallel(n_jobs=-1)]: Done 184 tasks      | elapsed:   47.1s\n",
      "[Parallel(n_jobs=-1)]: Done 250 out of 250 | elapsed:  1.1min finished\n",
      "D:\\Users\\Admin\\anaconda3\\lib\\site-packages\\sklearn\\ensemble\\_gb.py:1454: DataConversionWarning: A column-vector y was passed when a 1d array was expected. Please change the shape of y to (n_samples, ), for example using ravel().\n",
      "  y = column_or_1d(y, warn=True)\n"
     ]
    },
    {
     "name": "stdout",
     "output_type": "stream",
     "text": [
      "GridSearchCV(cv=None, error_score=nan,\n",
      "             estimator=GradientBoostingClassifier(ccp_alpha=0.0,\n",
      "                                                  criterion='friedman_mse',\n",
      "                                                  init=None, learning_rate=0.1,\n",
      "                                                  loss='deviance', max_depth=3,\n",
      "                                                  max_features=None,\n",
      "                                                  max_leaf_nodes=None,\n",
      "                                                  min_impurity_decrease=0.0,\n",
      "                                                  min_impurity_split=None,\n",
      "                                                  min_samples_leaf=1,\n",
      "                                                  min_samples_split=2,\n",
      "                                                  min_weight_fraction_leaf=0.0,\n",
      "                                                  n_estimators=100,\n",
      "                                                  n_iter_n...\n",
      "                                                  presort='deprecated',\n",
      "                                                  random_state=None,\n",
      "                                                  subsample=1.0, tol=0.0001,\n",
      "                                                  validation_fraction=0.1,\n",
      "                                                  verbose=0, warm_start=False),\n",
      "             iid='deprecated', n_jobs=-1,\n",
      "             param_grid={'loss': ['deviance', 'exponential'],\n",
      "                         'max_depth': [1, 3, 5, 7, 9],\n",
      "                         'n_estimators': [100, 200, 300, 400, 500]},\n",
      "             pre_dispatch='2*n_jobs', refit=True, return_train_score=False,\n",
      "             scoring='neg_mean_squared_error', verbose=1)\n"
     ]
    },
    {
     "name": "stderr",
     "output_type": "stream",
     "text": [
      "D:\\Users\\Admin\\anaconda3\\lib\\site-packages\\sklearn\\ensemble\\_gb.py:1454: DataConversionWarning: A column-vector y was passed when a 1d array was expected. Please change the shape of y to (n_samples, ), for example using ravel().\n",
      "  y = column_or_1d(y, warn=True)\n"
     ]
    }
   ],
   "source": [
    "# 切分訓練集/驗證集\n",
    "x_train, x_test, y_train, y_test = train_test_split(df_train, df_train_Y, test_size=0.25, random_state=4)\n",
    "\n",
    "# 建立模型\n",
    "clf = GradientBoostingClassifier()\n",
    "\n",
    "# 設定要訓練的超參數組合\n",
    "n_estimators = [100, 200, 300, 400, 500]\n",
    "max_depth = [1, 3, 5, 7 , 9]\n",
    "loss = ['deviance','exponential']\n",
    "param_grid = dict(n_estimators=n_estimators, max_depth=max_depth, loss=loss)\n",
    "\n",
    "grid_search = GridSearchCV(clf, param_grid, scoring=\"neg_mean_squared_error\", n_jobs=-1, verbose=1)\n",
    "\n",
    "# 開始搜尋最佳參數\n",
    "grid_result = grid_search.fit(x_train, y_train)\n",
    "print(grid_result)\n",
    "\n",
    "# 使用最佳參數重新建立模型\n",
    "clf_bestparam = GradientBoostingClassifier(loss=grid_result.best_params_['loss'],\n",
    "                                           max_depth=grid_result.best_params_['max_depth'],\n",
    "                                           n_estimators=grid_result.best_params_['n_estimators'])\n",
    "# 訓練模型\n",
    "search = clf_bestparam.fit(x_train, y_train)\n",
    "\n",
    "# 預測驗證\n",
    "y_pred = clf_bestparam.predict(x_test)"
   ]
  },
  {
   "cell_type": "code",
   "execution_count": 55,
   "metadata": {},
   "outputs": [
    {
     "name": "stdout",
     "output_type": "stream",
     "text": [
      "Acuuracy:  0.9\n"
     ]
    }
   ],
   "source": [
    "acc = metrics.accuracy_score(y_test, y_pred)\n",
    "print(\"Acuuracy: \", acc)"
   ]
  },
  {
   "cell_type": "code",
   "execution_count": 57,
   "metadata": {},
   "outputs": [
    {
     "name": "stdout",
     "output_type": "stream",
     "text": [
      "      Solution    Id\n",
      "0            1     1\n",
      "1            0     2\n",
      "2            1     3\n",
      "3            0     4\n",
      "4            0     5\n",
      "...        ...   ...\n",
      "8995         0  8996\n",
      "8996         1  8997\n",
      "8997         1  8998\n",
      "8998         0  8999\n",
      "8999         1  9000\n",
      "\n",
      "[9000 rows x 2 columns]\n"
     ]
    }
   ],
   "source": [
    "#使用測試集測試資料\n",
    "y_pred = clf_bestparam.predict(df_test)\n",
    "y_pred = pd.DataFrame(data = np.array(y_pred), columns=['Solution'])\n",
    "\n",
    "#add new column Id (by index)\n",
    "y_pred['Id'] = y_pred.index + 1\n",
    "\n",
    "print(y_pred)\n",
    "y_pred.to_csv('test_result.csv', index=False)"
   ]
  }
 ],
 "metadata": {
  "kernelspec": {
   "display_name": "Python 3",
   "language": "python",
   "name": "python3"
  },
  "language_info": {
   "codemirror_mode": {
    "name": "ipython",
    "version": 3
   },
   "file_extension": ".py",
   "mimetype": "text/x-python",
   "name": "python",
   "nbconvert_exporter": "python",
   "pygments_lexer": "ipython3",
   "version": "3.7.6"
  }
 },
 "nbformat": 4,
 "nbformat_minor": 4
}
