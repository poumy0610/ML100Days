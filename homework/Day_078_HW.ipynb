{
 "cells": [
  {
   "cell_type": "markdown",
   "metadata": {},
   "source": [
    "## Work\n",
    "1. 請嘗試將 preproc_x 替換成以每筆資料的 min/max 進行標準化至 -1 ~ 1 間，再進行訓練\n",
    "2. 請嘗試將 mlp 疊更深 (e.g 5~10 層)，進行訓練後觀察 learning curve 的走勢\n",
    "3. (optional) 請改用 GPU 進行訓練 (如果你有 GPU 的話)，比較使用 CPU 與 GPU 的訓練速度"
   ]
  },
  {
   "cell_type": "code",
   "execution_count": 1,
   "metadata": {},
   "outputs": [],
   "source": [
    "import os\n",
    "import keras\n",
    "from sklearn.preprocessing import MinMaxScaler\n",
    "# 請嘗試設定 GPU：os.environ\n",
    "scaler = MinMaxScaler(feature_range=(-1,1))"
   ]
  },
  {
   "cell_type": "code",
   "execution_count": 2,
   "metadata": {},
   "outputs": [],
   "source": [
    "train, test = keras.datasets.cifar10.load_data()"
   ]
  },
  {
   "cell_type": "code",
   "execution_count": 3,
   "metadata": {},
   "outputs": [],
   "source": [
    "## 資料前處理\n",
    "\"\"\"\n",
    "Your code here\n",
    "\"\"\"\n",
    "# def preproc_x(x):\n",
    "#     Min_Max_Scaler = preprocessing.MinMaxScaler(feature_range=(-1,1)) # 設定縮放的區間上下限\n",
    "#     x = Min_Max_Scaler.fit_transform(x)\n",
    "#     return x\n",
    "\n",
    "def preproc_x(x, flatten=True):\n",
    "    if flatten:\n",
    "        x = scaler.fit_transform(x.reshape((len(x), -1)))    \n",
    "    return x\n",
    "\n",
    "def preproc_y(y, num_classes=10):\n",
    "    if y.shape[-1] == 1:\n",
    "        y = keras.utils.to_categorical(y, num_classes)\n",
    "    return y"
   ]
  },
  {
   "cell_type": "code",
   "execution_count": 4,
   "metadata": {},
   "outputs": [],
   "source": [
    "x_train, y_train = train\n",
    "x_test, y_test = test\n",
    "\n",
    "# Preproc the inputs\n",
    "x_train = preproc_x(x_train)\n",
    "x_test = preproc_x(x_test)\n",
    "\n",
    "# Preprc the outputs\n",
    "y_train = preproc_y(y_train)\n",
    "y_test = preproc_y(y_test)"
   ]
  },
  {
   "cell_type": "code",
   "execution_count": 5,
   "metadata": {},
   "outputs": [],
   "source": [
    "\"\"\"Code Here\n",
    "建立你的神經網路\n",
    "\"\"\"\n",
    "def build_mlp(input_shape, output_units=10, num_neurons=[512, 256, 128, 64, 32]):\n",
    "    input_layer = keras.layers.Input(input_shape)\n",
    "    \n",
    "    for i, n_units in enumerate(num_neurons):\n",
    "        if i == 0:\n",
    "            x = keras.layers.Dense(units=n_units, activation=\"relu\", name=\"hidden_layer\"+str(i+1))(input_layer)\n",
    "        else:\n",
    "            x = keras.layers.Dense(units=n_units, activation=\"relu\", name=\"hidden_layer\"+str(i+1))(x)\n",
    "    \n",
    "    out = keras.layers.Dense(units=output_units, activation=\"softmax\", name=\"output\")(x)\n",
    "    \n",
    "    model = keras.models.Model(inputs=[input_layer], outputs=[out])\n",
    "    \n",
    "    return model"
   ]
  },
  {
   "cell_type": "code",
   "execution_count": 6,
   "metadata": {},
   "outputs": [
    {
     "name": "stdout",
     "output_type": "stream",
     "text": [
      "Model: \"model\"\n",
      "_________________________________________________________________\n",
      "Layer (type)                 Output Shape              Param #   \n",
      "=================================================================\n",
      "input_1 (InputLayer)         [(None, 3072)]            0         \n",
      "_________________________________________________________________\n",
      "hidden_layer1 (Dense)        (None, 512)               1573376   \n",
      "_________________________________________________________________\n",
      "hidden_layer2 (Dense)        (None, 256)               131328    \n",
      "_________________________________________________________________\n",
      "hidden_layer3 (Dense)        (None, 128)               32896     \n",
      "_________________________________________________________________\n",
      "hidden_layer4 (Dense)        (None, 64)                8256      \n",
      "_________________________________________________________________\n",
      "hidden_layer5 (Dense)        (None, 32)                2080      \n",
      "_________________________________________________________________\n",
      "output (Dense)               (None, 10)                330       \n",
      "=================================================================\n",
      "Total params: 1,748,266\n",
      "Trainable params: 1,748,266\n",
      "Non-trainable params: 0\n",
      "_________________________________________________________________\n"
     ]
    }
   ],
   "source": [
    "model = build_mlp(input_shape=x_train.shape[1:])\n",
    "model.summary()"
   ]
  },
  {
   "cell_type": "code",
   "execution_count": 7,
   "metadata": {},
   "outputs": [],
   "source": [
    "## 超參數設定\n",
    "LEARNING_RATE = 0.001\n",
    "EPOCHS = 100\n",
    "BATCH_SIZE = 256"
   ]
  },
  {
   "cell_type": "code",
   "execution_count": 8,
   "metadata": {},
   "outputs": [],
   "source": [
    "optimizer = keras.optimizers.Adam(lr=LEARNING_RATE)\n",
    "model.compile(loss=\"categorical_crossentropy\", metrics=[\"accuracy\"], optimizer=optimizer)"
   ]
  },
  {
   "cell_type": "code",
   "execution_count": 9,
   "metadata": {},
   "outputs": [
    {
     "name": "stdout",
     "output_type": "stream",
     "text": [
      "Epoch 1/100\n",
      "196/196 [==============================] - 4s 21ms/step - loss: 1.7104 - accuracy: 0.3949 - val_loss: 1.5379 - val_accuracy: 0.4537\n",
      "Epoch 2/100\n",
      "196/196 [==============================] - 3s 18ms/step - loss: 1.4766 - accuracy: 0.4804 - val_loss: 1.4318 - val_accuracy: 0.4931\n",
      "Epoch 3/100\n",
      "196/196 [==============================] - 4s 18ms/step - loss: 1.3588 - accuracy: 0.5210 - val_loss: 1.4407 - val_accuracy: 0.4958\n",
      "Epoch 4/100\n",
      "196/196 [==============================] - 4s 19ms/step - loss: 1.2669 - accuracy: 0.5542 - val_loss: 1.3973 - val_accuracy: 0.5128\n",
      "Epoch 5/100\n",
      "196/196 [==============================] - 4s 19ms/step - loss: 1.1799 - accuracy: 0.5851 - val_loss: 1.3716 - val_accuracy: 0.5262\n",
      "Epoch 6/100\n",
      "196/196 [==============================] - 4s 19ms/step - loss: 1.1012 - accuracy: 0.6124 - val_loss: 1.3715 - val_accuracy: 0.5286\n",
      "Epoch 7/100\n",
      "196/196 [==============================] - 4s 18ms/step - loss: 1.0316 - accuracy: 0.6357 - val_loss: 1.3534 - val_accuracy: 0.5386\n",
      "Epoch 8/100\n",
      "196/196 [==============================] - 5s 24ms/step - loss: 0.9495 - accuracy: 0.6646 - val_loss: 1.4055 - val_accuracy: 0.5397\n",
      "Epoch 9/100\n",
      "196/196 [==============================] - 5s 23ms/step - loss: 0.8865 - accuracy: 0.6853 - val_loss: 1.4332 - val_accuracy: 0.5428\n",
      "Epoch 10/100\n",
      "196/196 [==============================] - 5s 24ms/step - loss: 0.8123 - accuracy: 0.7121 - val_loss: 1.4887 - val_accuracy: 0.5280\n",
      "Epoch 11/100\n",
      "196/196 [==============================] - 5s 25ms/step - loss: 0.7661 - accuracy: 0.7304 - val_loss: 1.5290 - val_accuracy: 0.5325\n",
      "Epoch 12/100\n",
      "196/196 [==============================] - 4s 23ms/step - loss: 0.6862 - accuracy: 0.7565 - val_loss: 1.5880 - val_accuracy: 0.5331\n",
      "Epoch 13/100\n",
      "196/196 [==============================] - 5s 24ms/step - loss: 0.6379 - accuracy: 0.7740 - val_loss: 1.6825 - val_accuracy: 0.5335\n",
      "Epoch 14/100\n",
      "196/196 [==============================] - 4s 23ms/step - loss: 0.5861 - accuracy: 0.7910 - val_loss: 1.7372 - val_accuracy: 0.5340\n",
      "Epoch 15/100\n",
      "196/196 [==============================] - 4s 22ms/step - loss: 0.5375 - accuracy: 0.8084 - val_loss: 1.7982 - val_accuracy: 0.5356\n",
      "Epoch 16/100\n",
      "196/196 [==============================] - 4s 22ms/step - loss: 0.4873 - accuracy: 0.8283 - val_loss: 1.8355 - val_accuracy: 0.5336\n",
      "Epoch 17/100\n",
      "196/196 [==============================] - 4s 20ms/step - loss: 0.4466 - accuracy: 0.8432 - val_loss: 2.0692 - val_accuracy: 0.5321\n",
      "Epoch 18/100\n",
      "196/196 [==============================] - 4s 20ms/step - loss: 0.4129 - accuracy: 0.8545 - val_loss: 2.0643 - val_accuracy: 0.5294\n",
      "Epoch 19/100\n",
      "196/196 [==============================] - 4s 20ms/step - loss: 0.3810 - accuracy: 0.8648 - val_loss: 2.1211 - val_accuracy: 0.5405\n",
      "Epoch 20/100\n",
      "196/196 [==============================] - 4s 21ms/step - loss: 0.3463 - accuracy: 0.8787 - val_loss: 2.3098 - val_accuracy: 0.5359\n",
      "Epoch 21/100\n",
      "196/196 [==============================] - 4s 22ms/step - loss: 0.3216 - accuracy: 0.8870 - val_loss: 2.3908 - val_accuracy: 0.5301\n",
      "Epoch 22/100\n",
      "196/196 [==============================] - 5s 24ms/step - loss: 0.3185 - accuracy: 0.8886 - val_loss: 2.4416 - val_accuracy: 0.5375\n",
      "Epoch 23/100\n",
      "196/196 [==============================] - 4s 22ms/step - loss: 0.2738 - accuracy: 0.9053 - val_loss: 2.6029 - val_accuracy: 0.5252\n",
      "Epoch 24/100\n",
      "196/196 [==============================] - 5s 25ms/step - loss: 0.2544 - accuracy: 0.9130 - val_loss: 2.7094 - val_accuracy: 0.5287\n",
      "Epoch 25/100\n",
      "196/196 [==============================] - 4s 20ms/step - loss: 0.2590 - accuracy: 0.9095 - val_loss: 2.6720 - val_accuracy: 0.5232\n",
      "Epoch 26/100\n",
      "196/196 [==============================] - 4s 20ms/step - loss: 0.2517 - accuracy: 0.9127 - val_loss: 2.6988 - val_accuracy: 0.5245\n",
      "Epoch 27/100\n",
      "196/196 [==============================] - 4s 20ms/step - loss: 0.2258 - accuracy: 0.9214 - val_loss: 2.8530 - val_accuracy: 0.5189\n",
      "Epoch 28/100\n",
      "196/196 [==============================] - 4s 19ms/step - loss: 0.2105 - accuracy: 0.9270 - val_loss: 2.8305 - val_accuracy: 0.5265\n",
      "Epoch 29/100\n",
      "196/196 [==============================] - 4s 20ms/step - loss: 0.2023 - accuracy: 0.9295 - val_loss: 2.9688 - val_accuracy: 0.5316\n",
      "Epoch 30/100\n",
      "196/196 [==============================] - 4s 22ms/step - loss: 0.2018 - accuracy: 0.9300 - val_loss: 3.0233 - val_accuracy: 0.5282\n",
      "Epoch 31/100\n",
      "196/196 [==============================] - 4s 22ms/step - loss: 0.1837 - accuracy: 0.9367 - val_loss: 3.1341 - val_accuracy: 0.5218\n",
      "Epoch 32/100\n",
      "196/196 [==============================] - 4s 20ms/step - loss: 0.1852 - accuracy: 0.9365 - val_loss: 3.1551 - val_accuracy: 0.5290\n",
      "Epoch 33/100\n",
      "196/196 [==============================] - 4s 20ms/step - loss: 0.1750 - accuracy: 0.9400 - val_loss: 3.2108 - val_accuracy: 0.5238\n",
      "Epoch 34/100\n",
      "196/196 [==============================] - 4s 21ms/step - loss: 0.1788 - accuracy: 0.9386 - val_loss: 3.2371 - val_accuracy: 0.5277\n",
      "Epoch 35/100\n",
      "196/196 [==============================] - 4s 20ms/step - loss: 0.1756 - accuracy: 0.9399 - val_loss: 3.1946 - val_accuracy: 0.5213\n",
      "Epoch 36/100\n",
      "196/196 [==============================] - 4s 20ms/step - loss: 0.1619 - accuracy: 0.9449 - val_loss: 3.4002 - val_accuracy: 0.5277\n",
      "Epoch 37/100\n",
      "196/196 [==============================] - 4s 23ms/step - loss: 0.1535 - accuracy: 0.9469 - val_loss: 3.4282 - val_accuracy: 0.5269\n",
      "Epoch 38/100\n",
      "196/196 [==============================] - 4s 22ms/step - loss: 0.1537 - accuracy: 0.9485 - val_loss: 3.3765 - val_accuracy: 0.5327\n",
      "Epoch 39/100\n",
      "196/196 [==============================] - 4s 20ms/step - loss: 0.1292 - accuracy: 0.9572 - val_loss: 3.5850 - val_accuracy: 0.5220\n",
      "Epoch 40/100\n",
      "196/196 [==============================] - 4s 20ms/step - loss: 0.1484 - accuracy: 0.9497 - val_loss: 3.6749 - val_accuracy: 0.5147\n",
      "Epoch 41/100\n",
      "196/196 [==============================] - 4s 20ms/step - loss: 0.1388 - accuracy: 0.9530 - val_loss: 3.6264 - val_accuracy: 0.5183\n",
      "Epoch 42/100\n",
      "196/196 [==============================] - 4s 20ms/step - loss: 0.1513 - accuracy: 0.9481 - val_loss: 3.5364 - val_accuracy: 0.5291\n",
      "Epoch 43/100\n",
      "196/196 [==============================] - 4s 23ms/step - loss: 0.1208 - accuracy: 0.9592 - val_loss: 3.7714 - val_accuracy: 0.5247\n",
      "Epoch 44/100\n",
      "196/196 [==============================] - 4s 22ms/step - loss: 0.1196 - accuracy: 0.9592 - val_loss: 3.6918 - val_accuracy: 0.5166\n",
      "Epoch 45/100\n",
      "196/196 [==============================] - 4s 22ms/step - loss: 0.1234 - accuracy: 0.9586 - val_loss: 3.7297 - val_accuracy: 0.5272\n",
      "Epoch 46/100\n",
      "196/196 [==============================] - 4s 20ms/step - loss: 0.1363 - accuracy: 0.9554 - val_loss: 3.8645 - val_accuracy: 0.5227\n",
      "Epoch 47/100\n",
      "196/196 [==============================] - 4s 20ms/step - loss: 0.1388 - accuracy: 0.9541 - val_loss: 3.5795 - val_accuracy: 0.5201\n",
      "Epoch 48/100\n",
      "196/196 [==============================] - 4s 20ms/step - loss: 0.1214 - accuracy: 0.9596 - val_loss: 3.9280 - val_accuracy: 0.5261\n",
      "Epoch 49/100\n",
      "196/196 [==============================] - 4s 21ms/step - loss: 0.1068 - accuracy: 0.9633 - val_loss: 3.9834 - val_accuracy: 0.5177\n",
      "Epoch 50/100\n",
      "196/196 [==============================] - 4s 21ms/step - loss: 0.1155 - accuracy: 0.9609 - val_loss: 3.8675 - val_accuracy: 0.5295\n",
      "Epoch 51/100\n",
      "196/196 [==============================] - 4s 20ms/step - loss: 0.1132 - accuracy: 0.9624 - val_loss: 3.8882 - val_accuracy: 0.5313\n",
      "Epoch 52/100\n",
      "196/196 [==============================] - 4s 21ms/step - loss: 0.1107 - accuracy: 0.9628 - val_loss: 3.9176 - val_accuracy: 0.5252\n",
      "Epoch 53/100\n",
      "196/196 [==============================] - 5s 24ms/step - loss: 0.1098 - accuracy: 0.9635 - val_loss: 3.9268 - val_accuracy: 0.5213\n",
      "Epoch 54/100\n",
      "196/196 [==============================] - 4s 22ms/step - loss: 0.0976 - accuracy: 0.9664 - val_loss: 4.1503 - val_accuracy: 0.5210\n",
      "Epoch 55/100\n",
      "196/196 [==============================] - 4s 21ms/step - loss: 0.1252 - accuracy: 0.9587 - val_loss: 3.9306 - val_accuracy: 0.5220\n",
      "Epoch 56/100\n",
      "196/196 [==============================] - 4s 20ms/step - loss: 0.1141 - accuracy: 0.9612 - val_loss: 4.1965 - val_accuracy: 0.5241\n",
      "Epoch 57/100\n"
     ]
    },
    {
     "name": "stdout",
     "output_type": "stream",
     "text": [
      "196/196 [==============================] - 4s 22ms/step - loss: 0.0909 - accuracy: 0.9697 - val_loss: 4.1951 - val_accuracy: 0.5256\n",
      "Epoch 58/100\n",
      "196/196 [==============================] - 4s 21ms/step - loss: 0.0913 - accuracy: 0.9696 - val_loss: 4.3503 - val_accuracy: 0.5241\n",
      "Epoch 59/100\n",
      "196/196 [==============================] - 4s 22ms/step - loss: 0.1140 - accuracy: 0.9622 - val_loss: 4.0375 - val_accuracy: 0.5202\n",
      "Epoch 60/100\n",
      "196/196 [==============================] - 5s 23ms/step - loss: 0.0878 - accuracy: 0.9707 - val_loss: 4.3429 - val_accuracy: 0.5287\n",
      "Epoch 61/100\n",
      "196/196 [==============================] - 4s 22ms/step - loss: 0.1058 - accuracy: 0.9656 - val_loss: 4.1659 - val_accuracy: 0.5271\n",
      "Epoch 62/100\n",
      "196/196 [==============================] - 4s 21ms/step - loss: 0.1081 - accuracy: 0.9653 - val_loss: 4.0975 - val_accuracy: 0.5321\n",
      "Epoch 63/100\n",
      "196/196 [==============================] - 4s 23ms/step - loss: 0.0979 - accuracy: 0.9680 - val_loss: 4.0264 - val_accuracy: 0.5211\n",
      "Epoch 64/100\n",
      "196/196 [==============================] - 5s 25ms/step - loss: 0.0824 - accuracy: 0.9733 - val_loss: 4.2967 - val_accuracy: 0.5297\n",
      "Epoch 65/100\n",
      "196/196 [==============================] - 4s 21ms/step - loss: 0.0849 - accuracy: 0.9716 - val_loss: 4.2808 - val_accuracy: 0.5244\n",
      "Epoch 66/100\n",
      "196/196 [==============================] - 4s 20ms/step - loss: 0.1062 - accuracy: 0.9639 - val_loss: 4.0997 - val_accuracy: 0.5254\n",
      "Epoch 67/100\n",
      "196/196 [==============================] - 4s 19ms/step - loss: 0.0831 - accuracy: 0.9726 - val_loss: 4.1281 - val_accuracy: 0.5232\n",
      "Epoch 68/100\n",
      "196/196 [==============================] - 4s 19ms/step - loss: 0.0831 - accuracy: 0.9725 - val_loss: 4.3157 - val_accuracy: 0.5302\n",
      "Epoch 69/100\n",
      "196/196 [==============================] - 4s 20ms/step - loss: 0.0818 - accuracy: 0.9737 - val_loss: 4.4163 - val_accuracy: 0.5237\n",
      "Epoch 70/100\n",
      "196/196 [==============================] - 4s 21ms/step - loss: 0.1072 - accuracy: 0.9657 - val_loss: 4.2491 - val_accuracy: 0.5269\n",
      "Epoch 71/100\n",
      "196/196 [==============================] - 4s 22ms/step - loss: 0.0765 - accuracy: 0.9751 - val_loss: 4.3399 - val_accuracy: 0.5355\n",
      "Epoch 72/100\n",
      "196/196 [==============================] - 5s 24ms/step - loss: 0.0876 - accuracy: 0.9721 - val_loss: 4.3034 - val_accuracy: 0.5145\n",
      "Epoch 73/100\n",
      "196/196 [==============================] - 5s 23ms/step - loss: 0.0934 - accuracy: 0.9693 - val_loss: 4.4317 - val_accuracy: 0.5268\n",
      "Epoch 74/100\n",
      "196/196 [==============================] - 5s 25ms/step - loss: 0.0829 - accuracy: 0.9727 - val_loss: 4.3298 - val_accuracy: 0.5250\n",
      "Epoch 75/100\n",
      "196/196 [==============================] - 5s 24ms/step - loss: 0.0759 - accuracy: 0.9752 - val_loss: 4.3615 - val_accuracy: 0.5334\n",
      "Epoch 76/100\n",
      "196/196 [==============================] - 4s 22ms/step - loss: 0.0711 - accuracy: 0.9778 - val_loss: 4.2789 - val_accuracy: 0.5279\n",
      "Epoch 77/100\n",
      "196/196 [==============================] - 4s 23ms/step - loss: 0.0923 - accuracy: 0.9704 - val_loss: 4.2925 - val_accuracy: 0.5286\n",
      "Epoch 78/100\n",
      "196/196 [==============================] - 4s 23ms/step - loss: 0.0770 - accuracy: 0.9758 - val_loss: 4.4627 - val_accuracy: 0.5305\n",
      "Epoch 79/100\n",
      "196/196 [==============================] - 4s 22ms/step - loss: 0.0755 - accuracy: 0.9747 - val_loss: 4.4581 - val_accuracy: 0.5290\n",
      "Epoch 80/100\n",
      "196/196 [==============================] - 4s 21ms/step - loss: 0.0977 - accuracy: 0.9686 - val_loss: 4.4471 - val_accuracy: 0.5300\n",
      "Epoch 81/100\n",
      "196/196 [==============================] - 4s 23ms/step - loss: 0.0685 - accuracy: 0.9778 - val_loss: 4.4668 - val_accuracy: 0.5359\n",
      "Epoch 82/100\n",
      "196/196 [==============================] - 4s 22ms/step - loss: 0.0744 - accuracy: 0.9764 - val_loss: 4.4825 - val_accuracy: 0.5268\n",
      "Epoch 83/100\n",
      "196/196 [==============================] - 4s 21ms/step - loss: 0.0764 - accuracy: 0.9754 - val_loss: 4.3136 - val_accuracy: 0.5315\n",
      "Epoch 84/100\n",
      "196/196 [==============================] - 4s 21ms/step - loss: 0.0688 - accuracy: 0.9772 - val_loss: 4.3476 - val_accuracy: 0.5359\n",
      "Epoch 85/100\n",
      "196/196 [==============================] - 4s 21ms/step - loss: 0.0772 - accuracy: 0.9752 - val_loss: 4.4987 - val_accuracy: 0.5238\n",
      "Epoch 86/100\n",
      "196/196 [==============================] - 4s 23ms/step - loss: 0.0823 - accuracy: 0.9734 - val_loss: 4.4076 - val_accuracy: 0.5247\n",
      "Epoch 87/100\n",
      "196/196 [==============================] - 4s 22ms/step - loss: 0.0778 - accuracy: 0.9749 - val_loss: 4.4008 - val_accuracy: 0.5346\n",
      "Epoch 88/100\n",
      "196/196 [==============================] - 5s 24ms/step - loss: 0.0541 - accuracy: 0.9821 - val_loss: 4.5376 - val_accuracy: 0.5284\n",
      "Epoch 89/100\n",
      "196/196 [==============================] - 4s 22ms/step - loss: 0.0672 - accuracy: 0.9793 - val_loss: 4.6848 - val_accuracy: 0.5244\n",
      "Epoch 90/100\n",
      "196/196 [==============================] - 5s 25ms/step - loss: 0.1005 - accuracy: 0.9680 - val_loss: 4.4018 - val_accuracy: 0.5260\n",
      "Epoch 91/100\n",
      "196/196 [==============================] - 5s 28ms/step - loss: 0.0617 - accuracy: 0.9802 - val_loss: 4.5056 - val_accuracy: 0.5290\n",
      "Epoch 92/100\n",
      "196/196 [==============================] - 6s 33ms/step - loss: 0.0534 - accuracy: 0.9827 - val_loss: 4.5410 - val_accuracy: 0.5222\n",
      "Epoch 93/100\n",
      "196/196 [==============================] - 5s 23ms/step - loss: 0.0674 - accuracy: 0.9786 - val_loss: 4.3461 - val_accuracy: 0.5232\n",
      "Epoch 94/100\n",
      "196/196 [==============================] - 5s 23ms/step - loss: 0.0522 - accuracy: 0.9829 - val_loss: 4.6377 - val_accuracy: 0.5328\n",
      "Epoch 95/100\n",
      "196/196 [==============================] - 4s 22ms/step - loss: 0.0794 - accuracy: 0.9745 - val_loss: 4.7293 - val_accuracy: 0.5254\n",
      "Epoch 96/100\n",
      "196/196 [==============================] - 4s 22ms/step - loss: 0.0794 - accuracy: 0.9749 - val_loss: 4.6107 - val_accuracy: 0.5249\n",
      "Epoch 97/100\n",
      "196/196 [==============================] - 4s 21ms/step - loss: 0.0687 - accuracy: 0.9780 - val_loss: 4.5499 - val_accuracy: 0.5230\n",
      "Epoch 98/100\n",
      "196/196 [==============================] - 4s 21ms/step - loss: 0.0780 - accuracy: 0.9752 - val_loss: 4.5187 - val_accuracy: 0.5349\n",
      "Epoch 99/100\n",
      "196/196 [==============================] - 4s 21ms/step - loss: 0.0442 - accuracy: 0.9854 - val_loss: 4.8148 - val_accuracy: 0.5337\n",
      "Epoch 100/100\n",
      "196/196 [==============================] - 4s 20ms/step - loss: 0.0759 - accuracy: 0.9764 - val_loss: 4.6095 - val_accuracy: 0.5370\n"
     ]
    },
    {
     "data": {
      "text/plain": [
       "<tensorflow.python.keras.callbacks.History at 0x2abc2c7b8e0>"
      ]
     },
     "execution_count": 9,
     "metadata": {},
     "output_type": "execute_result"
    }
   ],
   "source": [
    "model.fit(x_train, y_train, \n",
    "          epochs=EPOCHS, \n",
    "          batch_size=BATCH_SIZE, \n",
    "          validation_data=(x_test, y_test), \n",
    "          shuffle=True)"
   ]
  },
  {
   "cell_type": "code",
   "execution_count": 11,
   "metadata": {
    "scrolled": true
   },
   "outputs": [
    {
     "data": {
      "image/png": "[encoded data removed]",
      "text/plain": [
       "<Figure size 432x288 with 1 Axes>"
      ]
     },
     "metadata": {
      "needs_background": "light"
     },
     "output_type": "display_data"
    },
    {
     "data": {
      "image/png": "[encoded data removed]",
      "text/plain": [
       "<Figure size 432x288 with 1 Axes>"
      ]
     },
     "metadata": {
      "needs_background": "light"
     },
     "output_type": "display_data"
    }
   ],
   "source": [
    "import matplotlib.pyplot as plt\n",
    "\n",
    "\n",
    "train_loss = model.history.history[\"loss\"]\n",
    "valid_loss = model.history.history[\"val_loss\"]\n",
    "\n",
    "train_acc = model.history.history[\"accuracy\"]\n",
    "valid_acc = model.history.history[\"val_accuracy\"]\n",
    "\n",
    "plt.plot(range(len(train_loss)), train_loss, label=\"train loss\")\n",
    "plt.plot(range(len(valid_loss)), valid_loss, label=\"valid loss\")\n",
    "plt.legend()\n",
    "plt.title(\"Loss\")\n",
    "plt.show()\n",
    "\n",
    "plt.plot(range(len(train_acc)), train_acc, label=\"train accuracy\")\n",
    "plt.plot(range(len(valid_acc)), valid_acc, label=\"valid accuracy\")\n",
    "plt.legend()\n",
    "plt.title(\"Accuracy\")\n",
    "plt.show()"
   ]
  },
  {
   "cell_type": "code",
   "execution_count": null,
   "metadata": {},
   "outputs": [],
   "source": [
    "# 增加層數的情況下，train_data的準確率有提升，但valid_data loss也有上升"
   ]
  }
 ],
 "metadata": {
  "kernelspec": {
   "display_name": "Python 3",
   "language": "python",
   "name": "python3"
  },
  "language_info": {
   "codemirror_mode": {
    "name": "ipython",
    "version": 3
   },
   "file_extension": ".py",
   "mimetype": "text/x-python",
   "name": "python",
   "nbconvert_exporter": "python",
   "pygments_lexer": "ipython3",
   "version": "3.8.3"
  }
 },
 "nbformat": 4,
 "nbformat_minor": 2
}
