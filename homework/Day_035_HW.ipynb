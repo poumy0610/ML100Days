{
 "cells": [
  {
   "cell_type": "markdown",
   "metadata": {},
   "source": [
    "## 練習時間\n",
    "相信大家對回歸問題及分類問題都有初步的了解。今天的作業希望大家搜尋有關 multi-label 的案例問題。下圖是電影 \"奇異博士\" 的分類。可以看到同時有 \"Action\", \"Adventure\", \"Fantasy\" 的類別存在，代表這是個多標籤的問題。 "
   ]
  },
  {
   "cell_type": "markdown",
   "metadata": {},
   "source": [
    "![image](https://cdn-images-1.medium.com/max/1000/1*r0gYXMSQf5VhdMyl2bRDyg.png)"
   ]
  },
  {
   "cell_type": "markdown",
   "metadata": {},
   "source": [
    "## 請搜尋目標為多標籤問題 (Multi-label) 的機器學習案例，了解其資料來源、目標以及評估指標為何\n",
    "## Hint: 服飾"
   ]
  },
  {
   "cell_type": "code",
   "execution_count": 1,
   "metadata": {},
   "outputs": [
    {
     "data": {
      "text/plain": [
       "'\\n  Google的音樂家分類\\n  EX. 酷玩樂團—類型： 另類搖滾， 流行搖滾， 後英式搖滾， 流行\\n  資料來源：可能由音樂服務供應商(ex. Youtube、Spotify)提供的分類進行統整。\\n  而Youtube等音樂平台則可以透過使用者點擊資料(同一使用者可能喜歡相似類型的音樂)、以及音樂曲風、歌詞、節奏等進行評估來分類。\\n  評估指標則可透過歐式距離來評估正確性。\\n'"
      ]
     },
     "execution_count": 1,
     "metadata": {},
     "output_type": "execute_result"
    }
   ],
   "source": [
    "'''\n",
    "  Google的音樂家分類\n",
    "  EX. 酷玩樂團—類型： 另類搖滾， 流行搖滾， 後英式搖滾， 流行\n",
    "  資料來源：可能由音樂服務供應商(ex. Youtube、Spotify)提供的分類進行統整。\n",
    "  而Youtube等音樂平台則可以透過使用者點擊資料(同一使用者可能喜歡相似類型的音樂)、以及音樂曲風、歌詞、節奏等進行評估來分類。\n",
    "  評估指標則可透過歐式距離來評估正確性。\n",
    "'''"
   ]
  }
 ],
 "metadata": {
  "kernelspec": {
   "display_name": "Python 3",
   "language": "python",
   "name": "python3"
  },
  "language_info": {
   "codemirror_mode": {
    "name": "ipython",
    "version": 3
   },
   "file_extension": ".py",
   "mimetype": "text/x-python",
   "name": "python",
   "nbconvert_exporter": "python",
   "pygments_lexer": "ipython3",
   "version": "3.7.6"
  }
 },
 "nbformat": 4,
 "nbformat_minor": 2
}
