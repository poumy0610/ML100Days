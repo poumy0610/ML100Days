{
 "cells": [
  {
   "cell_type": "markdown",
   "metadata": {},
   "source": [
    "## 練習時間"
   ]
  },
  {
   "cell_type": "markdown",
   "metadata": {},
   "source": [
    "請觀看李宏毅教授以神奇寶貝進化 CP 值預測的範例，解說何謂機器學習與過擬合。並回答以下問題"
   ]
  },
  {
   "cell_type": "markdown",
   "metadata": {},
   "source": [
    "[youtube](https://www.youtube.com/watch?v=fegAeph9UaA)"
   ]
  },
  {
   "cell_type": "markdown",
   "metadata": {},
   "source": [
    "### 1. 模型的泛化能力 (generalization) 是指什麼？ \n",
    "### 2. 分類問題與回歸問題分別可用的目標函數有哪些？\n",
    "\n",
    "### ANS:\n",
    "### 1. 泛化（generalization） 說明了模型對看不見的數據(非訓練集資料)的行為。如果我們的設計模組可以應對未來的數據，也就是他的適應性很好，這就是泛化。\n",
    "### 2. 分類問題與回歸問題分別可用的目標函數有哪些？\n",
    "### 回歸\n",
    "\n",
    "###  MSE : 均方誤差（ L2 損失函數 ）\n",
    "###  MAE : 平均絕對值誤差（ L1 損失函數 ）\n",
    "###  Huber 損失函數（ 平滑的平均絕對誤差 ）\n",
    "###  Log-Cosh 損失函數\n",
    "###  理解分位數損失函數\n",
    "\n",
    "# https://buzzorange.com/techorange/2018/06/22/computer-learning-5-tips/\n",
    "\n",
    "### 分類\n",
    "### 交叉熵損失函數 softmax\n",
    "### 合頁損失函數\n",
    "### 歐式距離\n",
    "### 對比損失函數\n",
    "### 信息增益\n",
    "\n",
    "# https://zhuanlan.zhihu.com/p/44722270"
   ]
  }
 ],
 "metadata": {
  "kernelspec": {
   "display_name": "Python 3",
   "language": "python",
   "name": "python3"
  },
  "language_info": {
   "codemirror_mode": {
    "name": "ipython",
    "version": 3
   },
   "file_extension": ".py",
   "mimetype": "text/x-python",
   "name": "python",
   "nbconvert_exporter": "python",
   "pygments_lexer": "ipython3",
   "version": "3.7.6"
  }
 },
 "nbformat": 4,
 "nbformat_minor": 2
}
