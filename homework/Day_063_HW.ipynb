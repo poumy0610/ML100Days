{
 "cells": [
  {
   "cell_type": "markdown",
   "metadata": {},
   "source": [
    "# 作業\n",
    "* 在精簡深度學習的方式上 : 卷積類神經 (CNN) 採用像素遠近，而遞歸類神經 (RNN) 採用著則是時間遠近\n",
    "* 那麼，既然有著類似的設計精神，兩者是否有可能互換應用呢?"
   ]
  },
  {
   "cell_type": "code",
   "execution_count": null,
   "metadata": {
    "collapsed": true
   },
   "outputs": [],
   "source": [
    "'''\n",
    "CNN常應用於影像辨識\n",
    "RNN常用於時序相關的資料處理\n",
    "\n",
    "因RNN是以時序為依據來預測新的資料，因此RNN也同樣適用於影像辨識，尤其是影片類型的辨識。\n",
    "而CNN對於特徵擷取來說，有相當的優勢，因此對於RNN常有的應用:像是股票預測或是聲音辨識，都非常有幫助，可採用相同的概念，\n",
    "對輸入的特徵有更多的解析，藉此提升RNN的判斷結果。\n",
    "'''"
   ]
  }
 ],
 "metadata": {
  "kernelspec": {
   "display_name": "Python 3",
   "language": "python",
   "name": "python3"
  },
  "language_info": {
   "codemirror_mode": {
    "name": "ipython",
    "version": 3
   },
   "file_extension": ".py",
   "mimetype": "text/x-python",
   "name": "python",
   "nbconvert_exporter": "python",
   "pygments_lexer": "ipython3",
   "version": "3.8.3"
  }
 },
 "nbformat": 4,
 "nbformat_minor": 2
}
