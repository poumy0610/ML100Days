{
 "cells": [
  {
   "cell_type": "markdown",
   "metadata": {},
   "source": [
    "# 作業目標:\n",
    "    運用 Keras 模組建構CNN, 了解 CNN 的架構\n",
    "    \n",
    "    "
   ]
  },
  {
   "cell_type": "markdown",
   "metadata": {},
   "source": [
    "# 作業重點\n",
    "(1)嘗試比對 Dense 與 layers.Conv2D 架構NN 的差異\n",
    "\n",
    "(2) 有沒有Pooling layer, 對於參數量的差異\n",
    "\n",
    "注意: input_shape 請勿修改"
   ]
  },
  {
   "cell_type": "code",
   "execution_count": 1,
   "metadata": {},
   "outputs": [
    {
     "name": "stdout",
     "output_type": "stream",
     "text": [
      "2.4.3\n"
     ]
    }
   ],
   "source": [
    "#導入相關模組\n",
    "import keras\n",
    "from keras import layers\n",
    "from keras import models\n",
    "from keras.models import Sequential\n",
    "from keras.layers import Conv2D, Activation, MaxPooling2D, Flatten, Dense\n",
    "\n",
    "#確認keras 版本\n",
    "print(keras.__version__)"
   ]
  },
  {
   "cell_type": "code",
   "execution_count": 2,
   "metadata": {},
   "outputs": [
    {
     "name": "stdout",
     "output_type": "stream",
     "text": [
      "Model: \"sequential\"\n",
      "_________________________________________________________________\n",
      "Layer (type)                 Output Shape              Param #   \n",
      "=================================================================\n",
      "hidden_layer_0 (Dense)       (None, 28, 28, 512)       1024      \n",
      "_________________________________________________________________\n",
      "activation (Activation)      (None, 28, 28, 512)       0         \n",
      "_________________________________________________________________\n",
      "hidden_layer_1 (Dense)       (None, 28, 28, 256)       131328    \n",
      "_________________________________________________________________\n",
      "output (Dense)               (None, 28, 28, 128)       32896     \n",
      "=================================================================\n",
      "Total params: 165,248\n",
      "Trainable params: 165,248\n",
      "Non-trainable params: 0\n",
      "_________________________________________________________________\n"
     ]
    }
   ],
   "source": [
    "'''\n",
    "model = Sequential([\n",
    "    Dense(xxx),\n",
    "    Activation(xxx),\n",
    "    Dense(xxx),\n",
    "    Activation(xxx),\n",
    "])\n",
    "'''\n",
    "#建立一個序列模型\n",
    "model = models.Sequential() \n",
    "\n",
    "#新增 hidden_layer\n",
    "model.add(Dense(units=512, name=\"hidden_layer_0\", input_shape=(28, 28, 1)))\n",
    "model.add(Activation('relu'))\n",
    "model.add(Dense(units=256, name=\"hidden_layer_1\"))\n",
    "model.add(Dense(units=128, activation=\"softmax\", name=\"output\"))\n",
    "\n",
    "model.summary()"
   ]
  },
  {
   "cell_type": "code",
   "execution_count": 3,
   "metadata": {},
   "outputs": [
    {
     "name": "stdout",
     "output_type": "stream",
     "text": [
      "Model: \"sequential_1\"\n",
      "_________________________________________________________________\n",
      "Layer (type)                 Output Shape              Param #   \n",
      "=================================================================\n",
      "conv2d (Conv2D)              (None, 26, 26, 32)        320       \n",
      "_________________________________________________________________\n",
      "max_pooling2d (MaxPooling2D) (None, 13, 13, 32)        0         \n",
      "_________________________________________________________________\n",
      "conv2d_1 (Conv2D)            (None, 11, 11, 32)        9248      \n",
      "_________________________________________________________________\n",
      "max_pooling2d_1 (MaxPooling2 (None, 5, 5, 32)          0         \n",
      "_________________________________________________________________\n",
      "flatten (Flatten)            (None, 800)               0         \n",
      "_________________________________________________________________\n",
      "dense (Dense)                (None, 100)               80100     \n",
      "_________________________________________________________________\n",
      "activation_1 (Activation)    (None, 100)               0         \n",
      "_________________________________________________________________\n",
      "dense_1 (Dense)              (None, 10)                1010      \n",
      "_________________________________________________________________\n",
      "activation_2 (Activation)    (None, 10)                0         \n",
      "=================================================================\n",
      "Total params: 90,678\n",
      "Trainable params: 90,678\n",
      "Non-trainable params: 0\n",
      "_________________________________________________________________\n"
     ]
    }
   ],
   "source": [
    "'''\n",
    "#建立一個序列模型\n",
    "model = models.Sequential()\n",
    "#建立兩個卷績層, 32 個內核, 內核大小 3x3, \n",
    "#輸入影像大小 28x28x1\n",
    "\n",
    "#建立一個全連接層\n",
    "model.add(Dense(units=100))\n",
    "model.add(Activation('relu'))\n",
    "\n",
    "#建立一個輸出層, 並採用softmax\n",
    "model.add(Dense(units=10))\n",
    "model.add(Activation('softmax'))\n",
    "'''\n",
    "#建立一個序列模型\n",
    "model = models.Sequential()\n",
    "\n",
    "model.add(layers.Conv2D(32, (3, 3), input_shape=(28, 28, 1)))\n",
    "\n",
    "#新增一池化層, 採用maxpooling\n",
    "model.add(MaxPooling2D(2,2))\n",
    "\n",
    "#建立第二個卷績層, 池化層, \n",
    "#請注意, 不需要再輸入 input_shape\n",
    "model.add(layers.Conv2D(32, (3, 3)))\n",
    "model.add(MaxPooling2D(2,2))\n",
    "\n",
    "#新增平坦層\n",
    "model.add(Flatten())    \n",
    "\n",
    "#建立一個全連接層\n",
    "model.add(Dense(units=100))\n",
    "model.add(Activation('relu'))\n",
    "\n",
    "#建立一個輸出層, 並採用softmax\n",
    "model.add(Dense(units=10))\n",
    "model.add(Activation('softmax'))\n",
    "\n",
    "model.summary()"
   ]
  }
 ],
 "metadata": {
  "kernelspec": {
   "display_name": "Python 3",
   "language": "python",
   "name": "python3"
  },
  "language_info": {
   "codemirror_mode": {
    "name": "ipython",
    "version": 3
   },
   "file_extension": ".py",
   "mimetype": "text/x-python",
   "name": "python",
   "nbconvert_exporter": "python",
   "pygments_lexer": "ipython3",
   "version": "3.8.3"
  }
 },
 "nbformat": 4,
 "nbformat_minor": 2
}
