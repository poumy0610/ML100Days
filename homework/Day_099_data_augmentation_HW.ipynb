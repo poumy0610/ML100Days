{
 "cells": [
  {
   "cell_type": "code",
   "execution_count": 1,
   "metadata": {},
   "outputs": [],
   "source": [
    "from tensorflow import keras\n",
    "batch_size = 32\n",
    "num_classes = 10\n",
    "epochs = 10"
   ]
  },
  {
   "cell_type": "code",
   "execution_count": 2,
   "metadata": {},
   "outputs": [],
   "source": [
    "from tensorflow.keras.models import Sequential\n",
    "from tensorflow.keras.layers import Dense, Dropout, Activation, Flatten\n",
    "from tensorflow.keras.layers import Conv2D, MaxPooling2D\n",
    "\n",
    "model = Sequential()\n",
    "model.add(Conv2D(32, (3, 3), padding='same',\n",
    "                 input_shape=[32,32,3]))\n",
    "model.add(Activation('relu'))\n",
    "model.add(Conv2D(64, (3, 3)))\n",
    "model.add(Activation('relu'))\n",
    "model.add(MaxPooling2D(pool_size=(2, 2)))\n",
    "model.add(Dropout(0.25))\n",
    "\n",
    "model.add(Conv2D(128, (3, 3), padding='same'))\n",
    "model.add(Activation('relu'))\n",
    "model.add(Conv2D(256, (3, 3)))\n",
    "model.add(Activation('relu'))\n",
    "model.add(MaxPooling2D(pool_size=(2, 2)))\n",
    "model.add(Dropout(0.25))\n",
    "\n",
    "model.add(Flatten())\n",
    "model.add(Dense(512))\n",
    "model.add(Activation('relu'))\n",
    "model.add(Dropout(0.5))\n",
    "model.add(Dense(num_classes))\n",
    "model.add(Activation('softmax'))\n",
    "#model.summary()"
   ]
  },
  {
   "cell_type": "code",
   "execution_count": 3,
   "metadata": {},
   "outputs": [],
   "source": [
    "model.save_weights(\"tmp.h5\")"
   ]
  },
  {
   "cell_type": "code",
   "execution_count": 4,
   "metadata": {},
   "outputs": [
    {
     "name": "stdout",
     "output_type": "stream",
     "text": [
      "x_train shape: (50000, 32, 32, 3)\n",
      "50000 train samples\n",
      "10000 test samples\n"
     ]
    }
   ],
   "source": [
    "from tensorflow.keras.datasets import cifar10\n",
    "(x_train, y_train), (x_test, y_test) = cifar10.load_data()\n",
    "print('x_train shape:', x_train.shape)\n",
    "print(x_train.shape[0], 'train samples')\n",
    "print(x_test.shape[0], 'test samples')\n",
    "x_train = x_train.astype('float32')\n",
    "x_test = x_test.astype('float32')\n",
    "x_train /= 255\n",
    "x_test /= 255\n",
    "\n",
    "# Convert class vectors to binary class matrices.\n",
    "y_train = keras.utils.to_categorical(y_train, num_classes)\n",
    "y_test = keras.utils.to_categorical(y_test, num_classes)"
   ]
  },
  {
   "cell_type": "code",
   "execution_count": 5,
   "metadata": {},
   "outputs": [],
   "source": [
    "def cifar_generator(total_size, batch_size=32):\n",
    "    while True:\n",
    "        for indexs in range(0, total_size, batch_size):\n",
    "            images = x_train[indexs: indexs+batch_size]\n",
    "            labels = y_train[indexs: indexs+batch_size]\n",
    "            yield images, labels\n",
    "            \n",
    "cifar_gen = cifar_generator(len(x_train), batch_size)"
   ]
  },
  {
   "cell_type": "code",
   "execution_count": 6,
   "metadata": {},
   "outputs": [
    {
     "name": "stdout",
     "output_type": "stream",
     "text": [
      "WARNING:tensorflow:From <ipython-input-6-0b808638a740>:6: Model.fit_generator (from tensorflow.python.keras.engine.training) is deprecated and will be removed in a future version.\n",
      "Instructions for updating:\n",
      "Please use Model.fit, which supports generators.\n",
      "Epoch 1/10\n",
      "1562/1562 [==============================] - 64s 41ms/step - loss: 1.7352 - accuracy: 0.3611 - val_loss: 1.3647 - val_accuracy: 0.5078\n",
      "Epoch 2/10\n",
      "1562/1562 [==============================] - 64s 41ms/step - loss: 1.2630 - accuracy: 0.5463 - val_loss: 1.0165 - val_accuracy: 0.6396\n",
      "Epoch 3/10\n",
      "1562/1562 [==============================] - 67s 43ms/step - loss: 1.0274 - accuracy: 0.6354 - val_loss: 0.8713 - val_accuracy: 0.6970\n",
      "Epoch 4/10\n",
      "1562/1562 [==============================] - 75s 48ms/step - loss: 0.8713 - accuracy: 0.6946 - val_loss: 0.7948 - val_accuracy: 0.7232\n",
      "Epoch 5/10\n",
      "1562/1562 [==============================] - 175s 112ms/step - loss: 0.7701 - accuracy: 0.7281 - val_loss: 0.7958 - val_accuracy: 0.7312\n",
      "Epoch 6/10\n",
      "1562/1562 [==============================] - 255s 163ms/step - loss: 0.6890 - accuracy: 0.7587 - val_loss: 0.7115 - val_accuracy: 0.7545\n",
      "Epoch 7/10\n",
      "1562/1562 [==============================] - 258s 165ms/step - loss: 0.6222 - accuracy: 0.7826 - val_loss: 0.6912 - val_accuracy: 0.7630\n",
      "Epoch 8/10\n",
      "1562/1562 [==============================] - 255s 163ms/step - loss: 0.5793 - accuracy: 0.7974 - val_loss: 0.7061 - val_accuracy: 0.7701\n",
      "Epoch 9/10\n",
      "1562/1562 [==============================] - 254s 163ms/step - loss: 0.5375 - accuracy: 0.8124 - val_loss: 0.6798 - val_accuracy: 0.7804\n",
      "Epoch 10/10\n",
      "1562/1562 [==============================] - 254s 163ms/step - loss: 0.4941 - accuracy: 0.8274 - val_loss: 0.7139 - val_accuracy: 0.7745\n",
      "Test loss: 0.7138611078262329\n",
      "Test accuracy: 0.7745000123977661\n"
     ]
    }
   ],
   "source": [
    "model.load_weights(\"tmp.h5\")\n",
    "model.compile(loss='categorical_crossentropy',\n",
    "              optimizer=keras.optimizers.SGD(0.01, 0.9),\n",
    "              metrics=['accuracy'])\n",
    "\n",
    "history = model.fit_generator(cifar_gen,\n",
    "                              steps_per_epoch=len(x_train)//batch_size,\n",
    "                              epochs=epochs,\n",
    "                              verbose=1,\n",
    "                              validation_data=(x_test, y_test))\n",
    "score = model.evaluate(x_test, y_test, verbose=0)\n",
    "print('Test loss:', score[0])\n",
    "print('Test accuracy:', score[1])"
   ]
  },
  {
   "cell_type": "code",
   "execution_count": 7,
   "metadata": {},
   "outputs": [],
   "source": [
    "from tensorflow.keras.preprocessing.image import ImageDataGenerator\n",
    "\n",
    "data_generator = ImageDataGenerator(\n",
    "    rotation_range=20,\n",
    "    width_shift_range=0.2,\n",
    "    height_shift_range=0.2,\n",
    "    horizontal_flip=True)"
   ]
  },
  {
   "cell_type": "code",
   "execution_count": 8,
   "metadata": {},
   "outputs": [
    {
     "name": "stdout",
     "output_type": "stream",
     "text": [
      "x_train shape: (50000, 32, 32, 3)\n",
      "50000 train samples\n",
      "10000 test samples\n"
     ]
    }
   ],
   "source": [
    "(x_train, y_train), (x_test, y_test) = cifar10.load_data()\n",
    "print('x_train shape:', x_train.shape)\n",
    "print(x_train.shape[0], 'train samples')\n",
    "print(x_test.shape[0], 'test samples')\n",
    "x_test = x_test.astype('float32')\n",
    "x_test /= 255\n",
    "\n",
    "# Convert class vectors to binary class matrices.\n",
    "y_train = keras.utils.to_categorical(y_train, num_classes)\n",
    "y_test = keras.utils.to_categorical(y_test, num_classes)"
   ]
  },
  {
   "cell_type": "code",
   "execution_count": 9,
   "metadata": {},
   "outputs": [],
   "source": [
    "def cifar_aug_generator(total_size, batch_size=32):\n",
    "    while True:\n",
    "        for indexs in range(0, total_size, batch_size):\n",
    "            images = x_train[indexs: indexs+batch_size]\n",
    "            labels = y_train[indexs: indexs+batch_size]\n",
    "            images = next(data_generator.flow(images, shuffle=False))\n",
    "            images = images.astype('float32')\n",
    "            images /= 255\n",
    "            yield images, labels\n",
    "             \n",
    "cifar_gen = cifar_aug_generator(len(x_train), batch_size)"
   ]
  },
  {
   "cell_type": "code",
   "execution_count": 10,
   "metadata": {},
   "outputs": [
    {
     "name": "stdout",
     "output_type": "stream",
     "text": [
      "Epoch 1/10\n",
      "1562/1562 [==============================] - 247s 158ms/step - loss: 1.9369 - accuracy: 0.2754 - val_loss: 1.5433 - val_accuracy: 0.4232\n",
      "Epoch 2/10\n",
      "1562/1562 [==============================] - 247s 158ms/step - loss: 1.6060 - accuracy: 0.4073 - val_loss: 1.3113 - val_accuracy: 0.5262\n",
      "Epoch 3/10\n",
      "1562/1562 [==============================] - 256s 164ms/step - loss: 1.4437 - accuracy: 0.4750 - val_loss: 1.1734 - val_accuracy: 0.5808\n",
      "Epoch 4/10\n",
      "1562/1562 [==============================] - 271s 174ms/step - loss: 1.3237 - accuracy: 0.5223 - val_loss: 1.1134 - val_accuracy: 0.6061\n",
      "Epoch 5/10\n",
      "1562/1562 [==============================] - 183s 117ms/step - loss: 1.2412 - accuracy: 0.5566 - val_loss: 1.0186 - val_accuracy: 0.6410\n",
      "Epoch 6/10\n",
      "1562/1562 [==============================] - 332s 213ms/step - loss: 1.1708 - accuracy: 0.5868 - val_loss: 0.9386 - val_accuracy: 0.6692\n",
      "Epoch 7/10\n",
      "1562/1562 [==============================] - 347s 222ms/step - loss: 1.1197 - accuracy: 0.6053 - val_loss: 0.8737 - val_accuracy: 0.6917\n",
      "Epoch 8/10\n",
      "1562/1562 [==============================] - 347s 222ms/step - loss: 1.0718 - accuracy: 0.6231 - val_loss: 0.9000 - val_accuracy: 0.6936\n",
      "Epoch 9/10\n",
      "1562/1562 [==============================] - 348s 223ms/step - loss: 1.0467 - accuracy: 0.6316 - val_loss: 0.8585 - val_accuracy: 0.7054\n",
      "Epoch 10/10\n",
      "1562/1562 [==============================] - 348s 223ms/step - loss: 1.0182 - accuracy: 0.6428 - val_loss: 0.9617 - val_accuracy: 0.6749\n",
      "Test loss: 0.9616512656211853\n",
      "Test accuracy: 0.6748999953269958\n"
     ]
    }
   ],
   "source": [
    "\n",
    "model.load_weights(\"tmp.h5\")\n",
    "model.compile(loss='categorical_crossentropy',\n",
    "              optimizer=keras.optimizers.SGD(0.01, 0.9),\n",
    "              metrics=['accuracy'])\n",
    "\n",
    "history = model.fit_generator(cifar_gen,\n",
    "                              steps_per_epoch=len(x_train)//batch_size,\n",
    "                              epochs=epochs,\n",
    "                              verbose=1,\n",
    "                              validation_data=(x_test, y_test))\n",
    "score = model.evaluate(x_test, y_test, verbose=0)\n",
    "print('Test loss:', score[0])\n",
    "print('Test accuracy:', score[1])"
   ]
  }
 ],
 "metadata": {
  "kernelspec": {
   "display_name": "Python 3",
   "language": "python",
   "name": "python3"
  },
  "language_info": {
   "codemirror_mode": {
    "name": "ipython",
    "version": 3
   },
   "file_extension": ".py",
   "mimetype": "text/x-python",
   "name": "python",
   "nbconvert_exporter": "python",
   "pygments_lexer": "ipython3",
   "version": "3.8.3"
  }
 },
 "nbformat": 4,
 "nbformat_minor": 2
}
