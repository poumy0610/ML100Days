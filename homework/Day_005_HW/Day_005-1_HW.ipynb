{
 "cells": [
  {
   "cell_type": "markdown",
   "metadata": {},
   "source": [
    "# [作業目標]\n",
    "- 利用範例的創建方式, 創建一組資料, 並練習如何取出最大值"
   ]
  },
  {
   "cell_type": "markdown",
   "metadata": {},
   "source": [
    "# [作業重點]\n",
    "- 練習創立 DataFrame (In[2])\n",
    "- 如何取出口數最多的國家 (In[3], Out[3])"
   ]
  },
  {
   "cell_type": "markdown",
   "metadata": {},
   "source": [
    "## 練習時間\n",
    "在小量的資料上，我們用眼睛就可以看得出來程式碼是否有跑出我們理想中的結果\n",
    "\n",
    "請嘗試想像一個你需要的資料結構 (裡面的值可以是隨機的)，然後用上述的方法把它變成 pandas DataFrame\n",
    "\n",
    "#### Ex: 想像一個 dataframe 有兩個欄位，一個是國家，一個是人口，求人口數最多的國家\n",
    "\n",
    "### Hints: [隨機產生數值](https://blog.csdn.net/christianashannon/article/details/78867204)"
   ]
  },
  {
   "cell_type": "code",
   "execution_count": 9,
   "metadata": {},
   "outputs": [],
   "source": [
    "import pandas as pd\n",
    "import numpy as np"
   ]
  },
  {
   "cell_type": "code",
   "execution_count": 23,
   "metadata": {},
   "outputs": [
    {
     "name": "stdout",
     "output_type": "stream",
     "text": [
      "              國家        人口\n",
      "0         Taiwan  54524777\n",
      "1          Japan  40246825\n",
      "2       Malaysia  21010587\n",
      "3       Thailand  68079780\n",
      "4          Nepal  53839472\n",
      "5        Germany  28631013\n",
      "6        Finland  52942913\n",
      "7  United States  45429674\n",
      "8      Argentina  58722252\n",
      "9         France  23504947\n",
      "\n",
      "\n",
      "人口數最多國家: Thailand\n"
     ]
    }
   ],
   "source": [
    "countries = ['Taiwan', 'Japan', 'Malaysia', 'Thailand', 'Nepal', 'Germany', 'Finland', 'United States', 'Argentina', 'France']\n",
    "population = np.random.randint(100000000,size=10)\n",
    "\n",
    "list_labels = ['國家','人口']\n",
    "list_cols = [countries, population]\n",
    "\n",
    "zipped = list(zip(list_labels, list_cols))\n",
    "\n",
    "population_list = pd.DataFrame(dict(zipped))\n",
    "\n",
    "print(population_list)\n",
    "print(\"\\n\")\n",
    "print(\"人口數最多國家: \"+ population_list.loc[population_list['人口'].idxmax(), '國家'])\n",
    "\n"
   ]
  },
  {
   "cell_type": "code",
   "execution_count": null,
   "metadata": {
    "collapsed": true
   },
   "outputs": [],
   "source": []
  }
 ],
 "metadata": {
  "kernelspec": {
   "display_name": "Python 3",
   "language": "python",
   "name": "python3"
  },
  "language_info": {
   "codemirror_mode": {
    "name": "ipython",
    "version": 3
   },
   "file_extension": ".py",
   "mimetype": "text/x-python",
   "name": "python",
   "nbconvert_exporter": "python",
   "pygments_lexer": "ipython3",
   "version": "3.7.6"
  }
 },
 "nbformat": 4,
 "nbformat_minor": 2
}
